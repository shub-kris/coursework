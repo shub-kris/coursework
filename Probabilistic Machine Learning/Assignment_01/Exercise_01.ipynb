{
 "cells": [
  {
   "cell_type": "markdown",
   "metadata": {},
   "source": [
    "# Practical task \n",
    "You will model the famous [Keeling curve](https://www.esrl.noaa.gov/gmd/ccgg/trends/) using contemporary deep learning frameworks. This notebook will download the data and read it in as numpy arrays and provide example code in [pytorch](https://pytorch.org/). You are welcome to use other frameworks and change the dataset to better fit your model arhitecture. "
   ]
  },
  {
   "cell_type": "code",
   "execution_count": 1,
   "metadata": {
    "pycharm": {
     "is_executing": false
    }
   },
   "outputs": [],
   "source": [
    "import numpy as np\n",
    "import matplotlib.pyplot as plt\n",
    "import os \n",
    "%matplotlib inline\n",
    "# %matplotlib notebook\n",
    "\n",
    "from tqdm import tqdm"
   ]
  },
  {
   "cell_type": "markdown",
   "metadata": {},
   "source": [
    "You can download the dataset from: ftp://aftp.cmdl.noaa.gov/products/trends/co2/co2_mm_mlo.txt\n",
    "\n",
    "or run the cell below which will check if the dataset is present in working directory and download it there if not."
   ]
  },
  {
   "cell_type": "code",
   "execution_count": 2,
   "metadata": {
    "pycharm": {
     "is_executing": false
    }
   },
   "outputs": [],
   "source": [
    "url=\"ftp://aftp.cmdl.noaa.gov/products/trends/co2/co2_mm_mlo.txt\"\n",
    "filename=os.path.split(url)[-1]\n",
    "\n",
    "if not os.path.exists(filename):    \n",
    "    from urllib import request\n",
    "    print('Downloading data from:\\n'+url)\n",
    "    request.urlretrieve(url,filename)"
   ]
  },
  {
   "cell_type": "markdown",
   "metadata": {},
   "source": [
    "Read in the data as `numpy` array"
   ]
  },
  {
   "cell_type": "code",
   "execution_count": 3,
   "metadata": {
    "pycharm": {
     "is_executing": false
    }
   },
   "outputs": [],
   "source": [
    "data=np.genfromtxt(filename,comments='#',missing_values='-99.99',usecols=[0,1,3])\n",
    "\n",
    "Xfull=data[:,0]+(data[:,1]-1)/12.0\n",
    "Yfull=data[:,-1]\n",
    "\n",
    "missing_values=Yfull==-99.99\n",
    "\n",
    "Yfull[missing_values] = None\n",
    "\n",
    "Xfull = Xfull.reshape(-1, 1)\n",
    "Yfull = Yfull.reshape(-1, 1)\n",
    "\n",
    "# Interpolation\n",
    "interp = np.interp(Xfull[missing_values],\n",
    "                   Xfull[~missing_values].flatten(),\n",
    "                   Yfull[~missing_values].flatten())\n",
    "Yfull[missing_values] = interp\n",
    "\n",
    "data=[]\n",
    "\n",
    "# Use last 3 years as a test set \n",
    "test_length=3*12\n",
    "\n",
    "Xtrain_np = Xfull[:-test_length]\n",
    "Ytrain_np = Yfull[:-test_length]\n",
    "\n",
    "Xtest_np = Xfull[-test_length:]\n",
    "Ytest_np = Yfull[-test_length:]\n",
    "\n",
    "# Data for prediction\n",
    "Xpred_np = Xtrain_np[-1]+np.arange(1,40*12).reshape(-1,1)/12"
   ]
  },
  {
   "cell_type": "markdown",
   "metadata": {},
   "source": [
    "Plot the train and test data"
   ]
  },
  {
   "cell_type": "code",
   "execution_count": 4,
   "metadata": {
    "pycharm": {
     "is_executing": false
    }
   },
   "outputs": [
    {
     "data": {
      "image/png": "[encoded data removed]",
      "text/plain": [
       "<Figure size 432x288 with 1 Axes>"
      ]
     },
     "metadata": {
      "needs_background": "light"
     },
     "output_type": "display_data"
    }
   ],
   "source": [
    "plt.scatter(Xtrain_np,Ytrain_np,marker='.',linewidths=0.05)\n",
    "plt.scatter(Xtest_np,Ytest_np,marker='.',linewidths=0.05)\n",
    "plt.title(r'$CO_2$ concentration')\n",
    "plt.xlabel('year')\n",
    "plt.ylabel(r'$CO_2$ [ppm]')\n",
    "plt.show()"
   ]
  },
  {
   "cell_type": "markdown",
   "metadata": {},
   "source": [
    "# Preprocess the data\n",
    "You are allowed to change the preprocessing and structure of the dataset to better suit your model architecture.\n",
    "\n",
    "Below is a simple example."
   ]
  },
  {
   "cell_type": "code",
   "execution_count": 5,
   "metadata": {
    "pycharm": {
     "is_executing": false
    }
   },
   "outputs": [],
   "source": [
    "xshift=np.mean(Xtrain_np)\n",
    "yshift=np.mean(Ytrain_np)\n",
    "\n",
    "xscale=np.std(Xtrain_np)\n",
    "yscale=np.std(Ytrain_np)\n",
    "\n",
    "\n",
    "Xtrain_np-=xshift\n",
    "Xtrain_np/=xscale\n",
    "Ytrain_np-=yshift\n",
    "Ytrain_np/=yscale\n",
    "\n",
    "Xtest_np-=xshift\n",
    "Xtest_np/=xscale\n",
    "Ytest_np-=yshift\n",
    "Ytest_np/=yscale\n",
    "\n",
    "\n",
    "Xpred_np-=xshift\n",
    "Xpred_np/=xscale"
   ]
  },
  {
   "cell_type": "markdown",
   "metadata": {},
   "source": [
    "# Task:\n",
    "Use a deep learning framwework of your choice to build and train a model to predict the CO$_2$ concentration up until year 2060.\n",
    "Below is a Pytorch example with 2 ways to construct a model that you can use as a starting point. \n",
    "\n",
    "See the [nn module](https://pytorch.org/docs/stable/nn.html#) of Pytorch for inspiration on models and modules."
   ]
  },
  {
   "cell_type": "code",
   "execution_count": 10,
   "metadata": {
    "pycharm": {
     "is_executing": false
    }
   },
   "outputs": [
    {
     "name": "stdout",
     "output_type": "stream",
     "text": [
      "cpu\n"
     ]
    }
   ],
   "source": [
    "import torch\n",
    "import torch.nn as nn\n",
    "import torch.nn.functional as F\n",
    "# if torch.cuda.is_available():  \n",
    "#     device = torch.device(\"cuda:0\") \n",
    "# else:  \n",
    "#     device = torch.device(\"cpu\")\n",
    "\n",
    "device = torch.device(\"cpu\")\n",
    "print(device)\n",
    "\n",
    "# Load the data into pytorch tensors for training\n",
    "Xtrain=torch.FloatTensor(Xtrain_np).to(device)\n",
    "Ytrain=torch.FloatTensor(Ytrain_np).to(device)\n",
    "\n",
    "Xtest=torch.FloatTensor(Xtest_np).to(device)\n",
    "Ytest=torch.FloatTensor(Ytest_np).to(device)\n",
    "\n",
    "Xpred=torch.FloatTensor(Xpred_np).to(device)"
   ]
  },
  {
   "cell_type": "markdown",
   "metadata": {},
   "source": [
    "## 2 layer DNN"
   ]
  },
  {
   "cell_type": "code",
   "execution_count": 13,
   "metadata": {},
   "outputs": [
    {
     "name": "stdout",
     "output_type": "stream",
     "text": [
      " 0: 1.069217324256897, 3.7757492065429688\n",
      " 50: 0.00925795640796423, 0.030889132991433144\n",
      " 100: 0.006832053419202566, 0.008907289244234562\n",
      " 150: 0.006657712161540985, 0.009192648343741894\n",
      " 200: 0.0065789115615189075, 0.008991817943751812\n",
      " 250: 0.006537153851240873, 0.008883519098162651\n",
      " 300: 0.006520561873912811, 0.008869319222867489\n",
      " 350: 0.006508958991616964, 0.008910760283470154\n"
     ]
    }
   ],
   "source": [
    "class Net(nn.Module):\n",
    "    def __init__(self):\n",
    "        super(Net,self).__init__()\n",
    "        self.fc1 = nn.Linear(1,128)\n",
    "        self.fc2 = nn.Linear(128, 64)\n",
    "        self.fc3 = nn.Linear(64, 16)\n",
    "        self.fc4 = nn.Linear(16, 1)\n",
    "    \n",
    "    def forward(self, x):\n",
    "        x = self.fc1(x)\n",
    "        x = F.leaky_relu(x)\n",
    "        x = self.fc2(x)\n",
    "        x = F.leaky_relu(x)\n",
    "        x = self.fc3(x)\n",
    "        x = F.leaky_relu(x)\n",
    "        x = self.fc4(x)\n",
    "        return x\n",
    "\n",
    "    \n",
    "    \n",
    "model = Net()\n",
    "model.to(device)\n",
    "criterion = nn.MSELoss()\n",
    "optimizer = torch.optim.Adam(model.parameters(), lr = 1e-3, weight_decay = 1e-4)\n",
    "epochs = 400\n",
    "for i in range(epochs):\n",
    "    optimizer.zero_grad()\n",
    "    y = model(Xtrain)\n",
    "    loss = criterion(y, Ytrain)\n",
    "    loss.backward()\n",
    "    optimizer.step()\n",
    "    if i % 50 == 0:\n",
    "        with torch.no_grad():\n",
    "            test_loss = criterion(model(Xtest), Ytest)\n",
    "            print(f\" {i}: {loss.item()}, {test_loss.item()}\")"
   ]
  },
  {
   "cell_type": "code",
   "execution_count": 14,
   "metadata": {},
   "outputs": [
    {
     "data": {
      "image/png": "[encoded data removed]",
      "text/plain": [
       "<Figure size 432x288 with 1 Axes>"
      ]
     },
     "metadata": {
      "needs_background": "light"
     },
     "output_type": "display_data"
    }
   ],
   "source": [
    "Xpred=torch.FloatTensor(Xpred_np).to(device)\n",
    "with torch.no_grad():\n",
    "    pred=model(Xtrain)\n",
    "    predf=model(Xpred)\n",
    "    \n",
    "plt.plot(Xtrain.cpu().numpy()*xscale+xshift,pred.cpu().numpy()*yscale+yshift,color='C0',label='Prediction')\n",
    "plt.plot(Xtrain_np*xscale+xshift,Ytrain_np*yscale+yshift,'x',color='C0',alpha=0.2,label='Train data')\n",
    "plt.plot(Xtest_np*xscale+xshift,Ytest_np*yscale+yshift,'o',color='C1',alpha=0.2,label='Test data')\n",
    "plt.plot(Xpred.cpu().numpy()*xscale+xshift,predf.cpu().numpy()*yscale+yshift,color='C3',label='Extrapolation')\n",
    "plt.legend()\n",
    "plt.xlabel(r'Year')\n",
    "plt.ylabel(r'CO$_2$ [ppm]')\n",
    "plt.show()"
   ]
  },
  {
   "cell_type": "markdown",
   "metadata": {},
   "source": [
    "## Echo State Networks"
   ]
  },
  {
   "cell_type": "markdown",
   "metadata": {},
   "source": [
    "### `pyESN`"
   ]
  },
  {
   "cell_type": "code",
   "execution_count": 8,
   "metadata": {},
   "outputs": [
    {
     "name": "stdout",
     "output_type": "stream",
     "text": [
      "Cloning into 'pyESN'...\n",
      "remote: Enumerating objects: 106, done.\u001b[K\n",
      "remote: Total 106 (delta 0), reused 0 (delta 0), pack-reused 106\u001b[K\n",
      "Receiving objects: 100% (106/106), 1.17 MiB | 1.16 MiB/s, done.\n",
      "Resolving deltas: 100% (53/53), done.\n"
     ]
    }
   ],
   "source": [
    "if \"pyESN\" not in os.listdir():\n",
    "    !git clone https://github.com/cknd/pyESN\n",
    "        \n",
    "from pyESN.pyESN import ESN"
   ]
  },
  {
   "cell_type": "code",
   "execution_count": 9,
   "metadata": {
    "pycharm": {
     "is_executing": false,
     "name": "#%%\n"
    }
   },
   "outputs": [
    {
     "name": "stderr",
     "output_type": "stream",
     "text": [
      "\r",
      "  0%|          | 0/14 [00:00<?, ?it/s]"
     ]
    },
    {
     "name": "stdout",
     "output_type": "stream",
     "text": [
      "3 0.5 0.028703198409496422\n",
      "3 0.5 0.02689397345474652\n",
      "3 0.7999999999999999 0.009785914966290787\n"
     ]
    },
    {
     "name": "stderr",
     "output_type": "stream",
     "text": [
      "\r",
      "  7%|▋         | 1/14 [00:03<00:44,  3.39s/it]"
     ]
    },
    {
     "name": "stdout",
     "output_type": "stream",
     "text": [
      "5 0.5 0.009766017890992084\n",
      "5 0.6 0.007521274786134103\n"
     ]
    },
    {
     "name": "stderr",
     "output_type": "stream",
     "text": [
      "\r",
      " 14%|█▍        | 2/14 [00:06<00:41,  3.44s/it]"
     ]
    },
    {
     "name": "stdout",
     "output_type": "stream",
     "text": [
      "7 1.0999999999999999 0.006866310983562284\n"
     ]
    },
    {
     "name": "stderr",
     "output_type": "stream",
     "text": [
      " 29%|██▊       | 4/14 [00:13<00:34,  3.47s/it]"
     ]
    },
    {
     "name": "stdout",
     "output_type": "stream",
     "text": [
      "11 0.6 0.006575428310255078\n",
      "11 0.6 0.005893334424397284\n"
     ]
    },
    {
     "name": "stderr",
     "output_type": "stream",
     "text": [
      " 57%|█████▋    | 8/14 [00:44<00:42,  7.12s/it]"
     ]
    },
    {
     "name": "stdout",
     "output_type": "stream",
     "text": [
      "19 1.0999999999999999 0.00570794850329421\n"
     ]
    },
    {
     "name": "stderr",
     "output_type": "stream",
     "text": [
      " 79%|███████▊  | 11/14 [01:13<00:26,  8.98s/it]"
     ]
    },
    {
     "name": "stdout",
     "output_type": "stream",
     "text": [
      "25 0.7 0.005278892607704025\n"
     ]
    },
    {
     "name": "stderr",
     "output_type": "stream",
     "text": [
      "\r",
      " 86%|████████▌ | 12/14 [01:24<00:18,  9.38s/it]"
     ]
    },
    {
     "name": "stdout",
     "output_type": "stream",
     "text": [
      "27 0.5 0.00525922405961075\n"
     ]
    },
    {
     "name": "stderr",
     "output_type": "stream",
     "text": [
      "100%|██████████| 14/14 [01:46<00:00,  7.61s/it]\n"
     ]
    }
   ],
   "source": [
    "best_model = None\n",
    "best_error = np.inf\n",
    "num_trials = 15\n",
    "\n",
    "models = []\n",
    "\n",
    "for n_res in tqdm(range(3, 30, 2)):  # number of neurons in the \"reservoir\"\n",
    "    for sr in np.arange(0.5, 1.3, 0.1):  # spectral radius\n",
    "        for i in range(num_trials):\n",
    "            esn = ESN(\n",
    "                n_inputs=1,\n",
    "                n_reservoir=n_res,\n",
    "                n_outputs=1,\n",
    "                spectral_radius=sr\n",
    "            )\n",
    "    \n",
    "            _ = esn.fit(Xtrain, Ytrain)\n",
    "    \n",
    "            Ytest_pred = esn.predict(torch.FloatTensor(Xtest).to(device))\n",
    "            \n",
    "            Ytest_pred_np = np.array(Ytest_pred.data)\n",
    "            \n",
    "            test_error = ((Ytest_pred_np - Ytest_np) ** 2).mean()\n",
    "            \n",
    "            if test_error < best_error:\n",
    "                best_error = test_error\n",
    "                best_model = esn\n",
    "                print(n_res, sr, best_error)\n",
    "            \n",
    "            models += [(esn, test_error)]\n",
    "            "
   ]
  },
  {
   "cell_type": "code",
   "execution_count": 10,
   "metadata": {
    "pycharm": {
     "is_executing": false,
     "name": "#%%\n"
    }
   },
   "outputs": [
    {
     "name": "stdout",
     "output_type": "stream",
     "text": [
      "0.17102570592164337\n"
     ]
    }
   ],
   "source": [
    "# Ytest_pred = esn.predict(Xtest)\n",
    "Ytrain_pred = best_model.predict(torch.FloatTensor(Xtrain).to(device), continuation=False)\n",
    "\n",
    "Ytrain_pred_np = np.array(Ytest_pred.data)\n",
    "# print(Ytest_pred_np)\n",
    "\n",
    "train_error = ((Ytrain_pred_np - Ytest_np) ** 2).mean()\n",
    "print(train_error)\n",
    "        "
   ]
  },
  {
   "cell_type": "code",
   "execution_count": 11,
   "metadata": {
    "pycharm": {
     "is_executing": false,
     "name": "#%%\n"
    }
   },
   "outputs": [
    {
     "name": "stdout",
     "output_type": "stream",
     "text": [
      "0.00688739682218622\n"
     ]
    }
   ],
   "source": [
    "# Ytest_pred = esn.predict(Xtest)\n",
    "Ytest_pred = best_model.predict(torch.FloatTensor(Xtest).to(device))\n",
    "\n",
    "Ytest_pred_np = np.array(Ytest_pred.data)\n",
    "# print(Ytest_pred_np)\n",
    "\n",
    "test_error = ((Ytest_pred_np - Ytest_np) ** 2).mean()\n",
    "print(test_error)\n",
    "        "
   ]
  },
  {
   "cell_type": "code",
   "execution_count": 12,
   "metadata": {
    "pycharm": {
     "is_executing": false,
     "name": "#%%\n"
    }
   },
   "outputs": [],
   "source": [
    "Ypred = best_model.predict(Xpred)"
   ]
  },
  {
   "cell_type": "code",
   "execution_count": 13,
   "metadata": {
    "pycharm": {
     "is_executing": false,
     "name": "#%%\n"
    }
   },
   "outputs": [],
   "source": [
    "# plt.scatter(Xfull,Ytest_pred_np,marker='.',linewidths=0.05, color='red', alpha=0.5)\n",
    "# plt.scatter(Xfull,Yfull,marker='.',linewidths=0.05, color='blue', alpha=0.5)\n",
    "# plt.scatter(Xpred,Ypred,marker='.',linewidths=0.05, color='orange', alpha=0.5)\n",
    "# plt.title(r'$CO_2$ concentration')\n",
    "# plt.xlabel('year')\n",
    "# plt.ylabel(r'$CO_2$ [ppm]')\n",
    "# plt.legend(['prediction', 'ground truth', 'extrapolation'])\n",
    "# plt.show()\n"
   ]
  },
  {
   "cell_type": "code",
   "execution_count": 14,
   "metadata": {
    "pycharm": {
     "is_executing": false,
     "name": "#%%\n"
    }
   },
   "outputs": [],
   "source": [
    "# plt.scatter(Xtest,Ytest_pred_np,marker='.',linewidths=0.05, color='red', alpha=0.5)\n",
    "# plt.scatter(Xtest,Ytest,marker='.',linewidths=0.05, color='blue', alpha=0.5)\n",
    "# plt.title(r'$CO_2$ concentration')\n",
    "# plt.xlabel('year')\n",
    "# plt.ylabel(r'$CO_2$ [ppm]')\n",
    "# plt.show()"
   ]
  },
  {
   "cell_type": "code",
   "execution_count": 15,
   "metadata": {
    "pycharm": {
     "is_executing": false,
     "name": "#%%\n"
    }
   },
   "outputs": [
    {
     "data": {
      "image/png": "[encoded data removed]",
      "text/plain": [
       "<Figure size 432x288 with 1 Axes>"
      ]
     },
     "metadata": {
      "needs_background": "light"
     },
     "output_type": "display_data"
    }
   ],
   "source": [
    "plt.plot(Xtrain.cpu().numpy()*xscale+xshift,Ytrain_pred*yscale+yshift,color='C0',label='Prediction')\n",
    "plt.plot(Xtrain_np*xscale+xshift,Ytrain_np*yscale+yshift,'x',color='C0',alpha=0.2,label='Train data')\n",
    "plt.plot(Xtest_np*xscale+xshift,Ytest_np*yscale+yshift,'o',color='C1',alpha=0.2,label='Test data')\n",
    "plt.plot(Xpred.cpu().numpy()*xscale+xshift,Ypred*yscale+yshift,color='C3',label='Extrapolation')\n",
    "\n",
    "plt.legend()\n",
    "plt.xlabel(r'Year')\n",
    "plt.ylabel(r'CO$_2$ [ppm]')\n",
    "plt.show()\n"
   ]
  },
  {
   "cell_type": "markdown",
   "metadata": {},
   "source": [
    "## Original PyTorch model"
   ]
  },
  {
   "cell_type": "code",
   "execution_count": 27,
   "metadata": {
    "pycharm": {
     "is_executing": false,
     "name": "#%%\n"
    }
   },
   "outputs": [],
   "source": [
    "import torch.nn as nn\n",
    "\n",
    "\n",
    "#############\n",
    "# 1st way to define model\n",
    "#############\n",
    "# class NN(nn.Module):\n",
    "#     def __init__(self):\n",
    "#         super(NN, self).__init__()\n",
    "#         self.linear1=nn.Linear(1,100)\n",
    "#         self.linear2=nn.Linear(100,1)\n",
    "#     \n",
    "#     def forward(self,x):\n",
    "#         x=nn.ReLU(self.linear1(x))\n",
    "#         x=self.linear2(x)\n",
    "#         return x\n",
    "#                    \n",
    "# model = NN\n",
    "\n",
    "#############\n",
    "# 2nd way to define model\n",
    "#############\n",
    "# model = torch.nn.Sequential(\n",
    "#     nn.LSTM(1,100),\n",
    "#     nn.ReLU(),\n",
    "#     nn.Linear(100,1)\n",
    "# )\n",
    "\n",
    "import random\n",
    "\n",
    "class NN(nn.Module):\n",
    "    def __init__(self, input_size, hidden_size, output_size):\n",
    "        super(NN, self).__init__()\n",
    "        self.input_size = input_size\n",
    "        self.hidden_size = hidden_size\n",
    "        self.output_size = output_size\n",
    "        self.lstm = nn.LSTMCell(self.input_size, self.hidden_size)\n",
    "        self.linear = nn.Linear(self.hidden_size, self.output_size)\n",
    "        \n",
    "    def forward(self, input, future=0, y=None):\n",
    "        outputs = []\n",
    "        # reset the state of LSTM\n",
    "        # the state is kept till the end of the sequence\n",
    "        h_t = torch.zeros(input.size(0), self.hidden_size, dtype=torch.float32)\n",
    "        c_t = torch.zeros(input.size(0), self.hidden_size, dtype=torch.float32)\n",
    "        for i, input_t in enumerate(input.chunk(input.size(1), dim=1)):\n",
    "            h_t, c_t = self.lstm(input_t, (h_t, c_t))\n",
    "            output = self.linear(h_t)\n",
    "            \n",
    "            outputs += [output]\n",
    "        for i in range(future):\n",
    "            if y is not None and random.random() > 0.5:\n",
    "                output = y[:, [i]]  # teacher forcing\n",
    "            h_t, c_t = self.lstm(output, (h_t, c_t))\n",
    "            output = self.linear(h_t)\n",
    "            outputs += [output]\n",
    "        outputs = torch.stack(outputs, 1).squeeze(2)\n",
    "        return outputs"
   ]
  },
  {
   "cell_type": "code",
   "execution_count": 28,
   "metadata": {
    "pycharm": {
     "is_executing": false,
     "name": "#%%\n"
    },
    "scrolled": true
   },
   "outputs": [
    {
     "name": "stdout",
     "output_type": "stream",
     "text": [
      "1000: 0.015286424197256565   0.20784644782543182\n",
      "2000: 0.011138261295855045   0.12877778708934784\n",
      "3000: 0.009960903786122799   0.0957351103425026\n",
      "4000: 0.009460054337978363   0.07934834808111191\n",
      "5000: 0.009148398414254189   0.0699133649468422\n",
      "6000: 0.008914933539927006   0.06370226293802261\n",
      "7000: 0.008727611973881721   0.059147804975509644\n",
      "8000: 0.008572547696530819   0.055536188185214996\n",
      "9000: 0.008441426791250706   0.05251798778772354\n",
      "10000: 0.008328569121658802   0.04991022124886513\n"
     ]
    }
   ],
   "source": [
    "model = NN(1, 30, 1)\n",
    "\n",
    "model.to(device)\n",
    "\n",
    "criterion=nn.MSELoss()\n",
    "\n",
    "# Change optimizer and hyperparameters\n",
    "optimizer=torch.optim.SGD(model.parameters(),lr=1e-3,momentum=0.9,weight_decay=0)\n",
    "\n",
    "NUM_EPOCHS=10000\n",
    "\n",
    "for i in range(NUM_EPOCHS):\n",
    "    optimizer.zero_grad()\n",
    "    pred=model(Xtrain)\n",
    "    loss=criterion(pred,Ytrain)\n",
    "    loss.backward()\n",
    "    optimizer.step()\n",
    "    if (i+1)%(NUM_EPOCHS // 10)==0:\n",
    "        with torch.no_grad():\n",
    "            test_loss=criterion(model(Xtest),Ytest)\n",
    "        print(f'{i+1}: {loss.item()}   {test_loss.item()}')\n"
   ]
  },
  {
   "cell_type": "markdown",
   "metadata": {},
   "source": [
    "Plot the prediction and extrapolation for analysis"
   ]
  },
  {
   "cell_type": "code",
   "execution_count": 29,
   "metadata": {
    "pycharm": {
     "is_executing": false,
     "name": "#%%\n"
    }
   },
   "outputs": [
    {
     "data": {
      "image/png": "[encoded data removed]",
      "text/plain": [
       "<Figure size 432x288 with 1 Axes>"
      ]
     },
     "metadata": {
      "needs_background": "light"
     },
     "output_type": "display_data"
    }
   ],
   "source": [
    "Xpred=torch.FloatTensor(Xpred_np).to(device)\n",
    "\n",
    "with torch.no_grad():\n",
    "    pred=model(Xtrain)\n",
    "    predf=model(Xpred)\n",
    "    \n",
    "plt.plot(Xtrain.cpu().numpy()*xscale+xshift,pred.cpu().numpy()*yscale+yshift,color='C0',label='Prediction')\n",
    "plt.plot(Xtrain_np*xscale+xshift,Ytrain_np*yscale+yshift,'x',color='C0',alpha=0.2,label='Train data')\n",
    "plt.plot(Xtest_np*xscale+xshift,Ytest_np*yscale+yshift,'o',color='C1',alpha=0.2,label='Test data')\n",
    "plt.plot(Xpred.cpu().numpy()*xscale+xshift,predf.cpu().numpy()*yscale+yshift,color='C3',label='Extrapolation')\n",
    "\n",
    "plt.legend()\n",
    "plt.xlabel(r'Year')\n",
    "plt.ylabel(r'CO$_2$ [ppm]')\n",
    "plt.show()"
   ]
  },
  {
   "cell_type": "markdown",
   "metadata": {},
   "source": [
    "# Question:\n",
    "**How is your model performing, is the behaviour expected?** \n",
    "\n",
    "*answer:*\n",
    "\n",
    "- 2 Layer DNN ( Deep Neural Network with 2 hidden layers)\n",
    "  - The 2 hidden layer DNN seems to be capturing the trend reasonably well than the other approaches we tried.\n",
    "\n",
    "- Echo State Network (ESN)\n",
    "  - Although this architecture is suitable for catching patterns in time-series data, the model was not able to do that.\n",
    "\n",
    "\n",
    "- Recurrent Neural Network (RNN):\n",
    "  - The RNN performs even worse than the ESN because it doesn't catch the trend of the data.\n",
    "\n",
    "**Do you trust the extrapolation why/why not?** \n",
    "\n",
    "*answer:*\n",
    "\n",
    "- DNN: The extrapolation on an avergage tends to capture the trend quite well but, obvioulsy not the seasonality.\n",
    "- ESN: The extrapolation at least seems to catch the trend of the data, but obviously not the seasonality.\n",
    "- RNN: The extrapolation is obviously wrong because it deviates even for the test set.\n",
    "\n",
    "**How would you change the architecture or dataset to improve the extrapolation?**\n",
    "\n",
    "*answer:*\n",
    "\n",
    "Since this is time-series data, these are some proposal changes that might improve the extrapolation:\n",
    "- Remove the \"trend\" of the data so that we get \"fluctations\" around a constant value.\n",
    "- If that constant value is not 0, remove the \"bias\".\n",
    "- Standardize data by divinding each data point with the standard deviation.\n",
    "\n",
    "As a result we would get more-regular dataset that we assume would be suitable to be solved by ESN.\n",
    "Additionally, better optimization techniques (e.g. differential evolution [1]) would definitiely improve model's performance.\n",
    "\n",
    "[1] Otte, Sebastian, et al. \"Optimizing recurrent reservoirs with neuro-evolution.\" <i>Neurocomputing</i> 192 (2016): 128-138."
   ]
  }
 ],
 "metadata": {
  "kernelspec": {
   "display_name": "Python 3",
   "language": "python",
   "name": "python3"
  },
  "language_info": {
   "codemirror_mode": {
    "name": "ipython",
    "version": 3
   },
   "file_extension": ".py",
   "mimetype": "text/x-python",
   "name": "python",
   "nbconvert_exporter": "python",
   "pygments_lexer": "ipython3",
   "version": "3.7.4"
  },
  "pycharm": {
   "stem_cell": {
    "cell_type": "raw",
    "metadata": {
     "collapsed": false
    },
    "source": []
   }
  }
 },
 "nbformat": 4,
 "nbformat_minor": 4
}
