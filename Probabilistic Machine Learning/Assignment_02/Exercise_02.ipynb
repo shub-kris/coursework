{
 "cells": [
  {
   "cell_type": "markdown",
   "metadata": {},
   "source": [
    "# Exercise Sheet #2: Battleships (1/2)\n",
    "\n",
    "### Probabilistic Machine Learning\n",
    "\n",
    "- **Lecturer**: Prof. Philipp Hennig\n",
    "- **Term**: SoSe 2020\n",
    "- **Due Date**: Monday, 04 May 2020, 10am\n",
    "\n",
    "\n",
    "![battleship rules](https://upload.wikimedia.org/wikipedia/commons/e/e4/Battleships_Paper_Game.svg)\n",
    "\n",
    "Over the course of two weeks, we will implement an agent that can play the pen-and-paper game _Battleships_. The goal of this exercise sheet is to find exact prior probabilities of getting a hit by enumeration, and to update to a posterior given observations of hits and misses. This week we will understand why we can't construct the agent with this approach.  \n",
    "\n",
    "Next week we will use Monte Carlo techniques to build an agent that we can play against :). Stay tuned!"
   ]
  },
  {
   "cell_type": "code",
   "execution_count": 1,
   "metadata": {},
   "outputs": [],
   "source": [
    "import numpy as np\n",
    "import matplotlib\n",
    "import matplotlib.pyplot as plt"
   ]
  },
  {
   "cell_type": "markdown",
   "metadata": {},
   "source": [
    "### **2.1** A priori probability for a hit with one boat\n",
    "\n",
    "**Tasks**\n",
    "1. Write a function that takes the length of a boat and that returns the prior probability to observe a hit.\n",
    "2. Plot the prior for a carrier (length 5).\n",
    "\n",
    "\n",
    "*Hint:* You can find this probability by enumerating all possible positions of the boat."
   ]
  },
  {
   "cell_type": "code",
   "execution_count": 2,
   "metadata": {},
   "outputs": [],
   "source": [
    "field_size = 10"
   ]
  },
  {
   "cell_type": "markdown",
   "metadata": {},
   "source": [
    "_Note:_ Let `i` denote the _row_ index and `j` the _column_ index"
   ]
  },
  {
   "cell_type": "code",
   "execution_count": 3,
   "metadata": {},
   "outputs": [
    {
     "data": {
      "text/plain": [
       "<matplotlib.image.AxesImage at 0x2b20b1e9488>"
      ]
     },
     "execution_count": 3,
     "metadata": {},
     "output_type": "execute_result"
    },
    {
     "data": {
      "image/png": "[encoded data removed]",
      "text/plain": [
       "<Figure size 432x288 with 1 Axes>"
      ]
     },
     "metadata": {
      "needs_background": "light"
     },
     "output_type": "display_data"
    }
   ],
   "source": [
    "def boat_prior(boat_length, field_size):\n",
    "    \"\"\"\n",
    "    Computes the prior probability to get a hit given the boat length and the size of the board.\n",
    "    For a single-boat setup only.\n",
    "    :param boat_length: Length of the boat, type: int\n",
    "    :param field_size: size of the board, type: int\n",
    "    \n",
    "    :returns: np.ndarray of size (field_size, field_size) containing the probability of a hit for every field.\n",
    "    \"\"\"\n",
    "    \n",
    "    #######################################\n",
    "    \n",
    "    prior = np.zeros([field_size, field_size])\n",
    "    \n",
    "    # Create horizontal boats\n",
    "    for x in range(field_size):\n",
    "        for y in range(field_size - boat_length + 1):\n",
    "            for k in range(boat_length):\n",
    "                prior[x, y+k] += 1\n",
    "    \n",
    "    # Create vertical boats\n",
    "    for y in range(field_size):\n",
    "        for x in range(field_size - boat_length + 1):\n",
    "            for k in range(boat_length):\n",
    "                prior[x+k, y] += 1\n",
    "\n",
    "    prior /= prior.sum()\n",
    "    \n",
    "    #######################################\n",
    "\n",
    "    return prior\n",
    "\n",
    "L_carrier = 5\n",
    "carrier_prior = boat_prior(L_carrier, field_size)\n",
    "plt.imshow(carrier_prior)"
   ]
  },
  {
   "cell_type": "code",
   "execution_count": 4,
   "metadata": {},
   "outputs": [
    {
     "data": {
      "text/plain": [
       "1.0000000000000002"
      ]
     },
     "execution_count": 4,
     "metadata": {},
     "output_type": "execute_result"
    }
   ],
   "source": [
    "# Sanity check: carrier_prior should sum to the length of the boat\n",
    "carrier_prior.sum()"
   ]
  },
  {
   "cell_type": "markdown",
   "metadata": {},
   "source": [
    "### **2.2** Updating to a posterior given hit/miss observations\n",
    "\n",
    "Let us define an `observation_board` that contains the observations. We use the following notation:  \n",
    "    `0` unseen field  \n",
    "    `-1` miss (water)  \n",
    "    `1` hit  "
   ]
  },
  {
   "cell_type": "markdown",
   "metadata": {},
   "source": [
    "**Task 1:** Write a function that takes as input the `observation_board` as well as the length of one boat, and that returns an array that contains the probability to get a hit at every coordinate of the field.\n",
    "\n",
    "*Hint:* Again, this can be achieved by enumeration. Take care of all the constraints imposed by the `observation_board`!"
   ]
  },
  {
   "cell_type": "code",
   "execution_count": 4,
   "metadata": {},
   "outputs": [],
   "source": [
    "def posterior_one_ship(observation_board, boat_length):\n",
    "    \"\"\"\n",
    "    Computes the posterior probability to get a hit given an array of observed hits and misses as well as the boat length.\n",
    "    For a single-boat setup only.\n",
    "    :param observation_board: the board containing unobserved locations (0), misses (-1), and hits (1), type: np.ndarray\n",
    "    :param boat_length: Length of the boat, type: int\n",
    "    \n",
    "    :returns: np.ndarray of the same size as the observation board containing the probability of a hit \n",
    "              for every field given the observations\n",
    "    \"\"\"\n",
    "    \n",
    "    #######################################\n",
    "    \n",
    "    rows = observation_board.shape[0]\n",
    "    cols = observation_board.shape[1]\n",
    "    \n",
    "    exception_msg = \"Boat has invalid position\"\n",
    "    \n",
    "    prior = np.zeros([rows, cols])\n",
    "    \n",
    "    # Create horizontal boats\n",
    "    for x in range(field_size):\n",
    "        for y in range(field_size - boat_length + 1):\n",
    "            for k in range(boat_length):\n",
    "                prior[x, y+k] += 1\n",
    "    \n",
    "    # Create vertical boats\n",
    "    for y in range(field_size):\n",
    "        for x in range(field_size - boat_length + 1):\n",
    "            for k in range(boat_length):\n",
    "                prior[x+k, y] += 1\n",
    "    \n",
    "    # Incorporate misses\n",
    "    misses = np.argwhere(observation_board == -1)\n",
    "    \n",
    "    for x, y in misses:\n",
    "        x_min = max(x-boat_length+1, 0)\n",
    "        x_max = min(x+boat_length, rows)\n",
    "        \n",
    "        y_min = max(y-boat_length+1, 0)\n",
    "        y_max = min(y+boat_length, cols)\n",
    "        \n",
    "        for x_ in range(x_min, x+1):\n",
    "            if x_ + boat_length - 1 < rows:\n",
    "                for i in range(boat_length):\n",
    "                    prior[x_+i, y] -= 1\n",
    "        \n",
    "        for y_ in range(y_min, y+1):\n",
    "            if y_ + boat_length - 1 < cols:\n",
    "                for j in range(boat_length):\n",
    "                    prior[x, y_+j] -= 1\n",
    "            \n",
    "    # Incorporate hits\n",
    "    hits = np.argwhere(observation_board == 1)\n",
    "    \n",
    "    if len(hits) > 0:\n",
    "        position = \"unk\"\n",
    "        max_distance = 0\n",
    "        \n",
    "        for x, y in hits:\n",
    "            for x_, y_ in hits:\n",
    "                \n",
    "                x_distance = abs(x - x_)\n",
    "                y_distance = abs(y - y_)\n",
    "                \n",
    "                if x == x_ and y == y_:\n",
    "                    pass\n",
    "                \n",
    "                elif (x_distance <= boat_length-1) and y == y_:\n",
    "                    max_distance = max(max_distance, x_distance)\n",
    "                    \n",
    "                    if position == \"unk\" or position == \"ver\":\n",
    "                        position = \"ver\"\n",
    "                    else:\n",
    "                        raise Exception(exception_msg)\n",
    "                        \n",
    "                elif (y_distance <= boat_length-1) and x == x_:\n",
    "                    max_distance = max(max_distance, y_distance)\n",
    "                    \n",
    "                    if position == \"unk\" or position == \"hor\":\n",
    "                        position = \"hor\"\n",
    "                    else:\n",
    "                        raise Exception(exception_msg)\n",
    "                        \n",
    "                else:\n",
    "                    raise Exception(exception_msg)\n",
    "\n",
    "        prior = np.zeros((rows, cols))\n",
    "        \n",
    "        spare = boat_length - max_distance - 1\n",
    "            \n",
    "        if position == \"hor\" or position == \"unk\":\n",
    "            x = hits[0, 0]\n",
    "            \n",
    "            y_min = np.min(hits[:, 1])\n",
    "            y_max = np.max(hits[:, 1])\n",
    "            \n",
    "            for y in range(max(0, y_min - spare), min(y_min + 1, cols)):\n",
    "                if y + boat_length - 1 < cols:\n",
    "                    for j in range(boat_length):\n",
    "                        prior[x, y+j] += 1\n",
    "            \n",
    "        if position == \"ver\" or position == \"unk\":\n",
    "            y = hits[0, 1]\n",
    "            \n",
    "            x_min = np.min(hits[:, 0])\n",
    "            x_max = np.max(hits[:, 0])\n",
    "            \n",
    "            for x in range(max(0, x_min - spare), min(x_min + 1, rows)):\n",
    "                if x + boat_length - 1 < rows:\n",
    "                    for i in range(boat_length):\n",
    "                        prior[x+i, y] += 1\n",
    "            \n",
    "    posterior = prior / prior.sum()\n",
    "    \n",
    "    #######################################\n",
    "\n",
    "    return posterior"
   ]
  },
  {
   "cell_type": "markdown",
   "metadata": {},
   "source": [
    "**Task 2:** Test your function on the following `observation_board`s (just run the cells)"
   ]
  },
  {
   "cell_type": "code",
   "execution_count": 5,
   "metadata": {},
   "outputs": [],
   "source": [
    "# board 1: Only misses\n",
    "obs_board_1 = np.zeros((field_size, field_size)); obs_board_1[[1, 2, 5, 8], [8, 3, 4, 6]] = -1\n",
    "\n",
    "# board 2: a few misses, one hit\n",
    "obs_board_2 = np.copy(obs_board_1); obs_board_2[7, 1] = 1\n",
    "\n",
    "# board 3: a few misses, two hits\n",
    "obs_board_3 = np.copy(obs_board_2); obs_board_3[6, 1] = 1\n",
    "\n",
    "# board 4: two for one boat impossible hits: This should cause an error\n",
    "obs_board_4 = np.copy(obs_board_2); obs_board_4[6, 2] = 1"
   ]
  },
  {
   "cell_type": "code",
   "execution_count": 6,
   "metadata": {},
   "outputs": [
    {
     "data": {
      "image/png": "[encoded data removed]",
      "text/plain": [
       "<Figure size 864x432 with 8 Axes>"
      ]
     },
     "metadata": {
      "needs_background": "light"
     },
     "output_type": "display_data"
    }
   ],
   "source": [
    "### VISUALIZATION\n",
    "from matplotlib import colors\n",
    "\n",
    "# making a custom discrete colormap for hits and misses\n",
    "cmap_discrete = colors.ListedColormap(['white', 'C0','darkred'])\n",
    "boundaries = [-1.5, -0.5, 0.5, 1.5]\n",
    "norm = colors.BoundaryNorm(boundaries, cmap_discrete.N, clip=True)\n",
    "\n",
    "# Plot the boards and the corresponding posterior\n",
    "f, axs = plt.subplots(2, 4, figsize=(12,6))\n",
    "\n",
    "cmap = matplotlib.cm.viridis  # Can be any colormap that you want after the cm\n",
    "cmap.set_bad(color='w')\n",
    "\n",
    "# board 1\n",
    "post_1 = posterior_one_ship(obs_board_1, 5)\n",
    "axs[0, 0].imshow(obs_board_1, cmap=cmap_discrete, norm=norm)\n",
    "axs[1, 0].imshow(np.ma.masked_where(post_1 == 0, post_1), cmap=cmap)\n",
    "\n",
    "# board 2\n",
    "axs[0, 1].imshow(obs_board_2, cmap=cmap_discrete, norm=norm)\n",
    "axs[1, 1].imshow(posterior_one_ship(obs_board_2, 5))\n",
    "\n",
    "# board 3\n",
    "axs[0, 2].imshow(obs_board_3, cmap=cmap_discrete, norm=norm)\n",
    "axs[1, 2].imshow(posterior_one_ship(obs_board_3, 5))\n",
    "\n",
    "# board 4\n",
    "axs[0, 3].imshow(obs_board_4, cmap=cmap_discrete, norm=norm)\n",
    "try:\n",
    "    axs[1, 3].imshow(posterior_one_ship(obs_board_4, 5))\n",
    "except:\n",
    "    pass"
   ]
  },
  {
   "cell_type": "code",
   "execution_count": 7,
   "metadata": {},
   "outputs": [
    {
     "ename": "Exception",
     "evalue": "Boat has invalid position",
     "output_type": "error",
     "traceback": [
      "\u001b[1;31m---------------------------------------------------------------------------\u001b[0m",
      "\u001b[1;31mException\u001b[0m                                 Traceback (most recent call last)",
      "\u001b[1;32m<ipython-input-7-ea8741cfb342>\u001b[0m in \u001b[0;36m<module>\u001b[1;34m\u001b[0m\n\u001b[0;32m      1\u001b[0m \u001b[1;31m# board 4 should raise an error\u001b[0m\u001b[1;33m\u001b[0m\u001b[1;33m\u001b[0m\u001b[1;33m\u001b[0m\u001b[0m\n\u001b[1;32m----> 2\u001b[1;33m \u001b[0mposterior_one_ship\u001b[0m\u001b[1;33m(\u001b[0m\u001b[0mobs_board_4\u001b[0m\u001b[1;33m,\u001b[0m \u001b[1;36m5\u001b[0m\u001b[1;33m)\u001b[0m\u001b[1;33m\u001b[0m\u001b[1;33m\u001b[0m\u001b[0m\n\u001b[0m",
      "\u001b[1;32m<ipython-input-4-b1e96255856e>\u001b[0m in \u001b[0;36mposterior_one_ship\u001b[1;34m(observation_board, boat_length)\u001b[0m\n\u001b[0;32m     84\u001b[0m \u001b[1;33m\u001b[0m\u001b[0m\n\u001b[0;32m     85\u001b[0m                 \u001b[1;32melse\u001b[0m\u001b[1;33m:\u001b[0m\u001b[1;33m\u001b[0m\u001b[1;33m\u001b[0m\u001b[0m\n\u001b[1;32m---> 86\u001b[1;33m                     \u001b[1;32mraise\u001b[0m \u001b[0mException\u001b[0m\u001b[1;33m(\u001b[0m\u001b[0mexception_msg\u001b[0m\u001b[1;33m)\u001b[0m\u001b[1;33m\u001b[0m\u001b[1;33m\u001b[0m\u001b[0m\n\u001b[0m\u001b[0;32m     87\u001b[0m \u001b[1;33m\u001b[0m\u001b[0m\n\u001b[0;32m     88\u001b[0m         \u001b[0mprior\u001b[0m \u001b[1;33m=\u001b[0m \u001b[0mnp\u001b[0m\u001b[1;33m.\u001b[0m\u001b[0mzeros\u001b[0m\u001b[1;33m(\u001b[0m\u001b[1;33m(\u001b[0m\u001b[0mrows\u001b[0m\u001b[1;33m,\u001b[0m \u001b[0mcols\u001b[0m\u001b[1;33m)\u001b[0m\u001b[1;33m)\u001b[0m\u001b[1;33m\u001b[0m\u001b[1;33m\u001b[0m\u001b[0m\n",
      "\u001b[1;31mException\u001b[0m: Boat has invalid position"
     ]
    }
   ],
   "source": [
    "# board 4 should raise an error\n",
    "posterior_one_ship(obs_board_4, 5)"
   ]
  },
  {
   "cell_type": "markdown",
   "metadata": {},
   "source": [
    "### **2.3** Towards battleship with more than one boat\n",
    "_Note: No coding required!_\n",
    "\n",
    "Next week's assignment will deal with the full game of Battleships, which, according to the above rules, contains seven ships.\n",
    "\n",
    "1. Think about how you would need to modify your above routines to compute  \n",
    "   &nbsp;&nbsp;&nbsp;&nbsp;&nbsp;&nbsp;   (a) the prior over ship locations   \n",
    "   &nbsp;&nbsp;&nbsp;&nbsp;&nbsp;&nbsp;   (b) the posterior over ship locations given hit/miss observations  \n",
    "    by enumerating all states. Describe the changes you would need to make to your code.\n",
    "2. Why will it be hard to compute the posterior with multiple boats?"
   ]
  },
  {
   "cell_type": "markdown",
   "metadata": {},
   "source": [
    "#### **Answers**\n",
    "\n",
    "1. (a) We would have to consider every possible arrangement of boats such that there are no inconsistencies such as collisions between two or more boats.\n",
    "1. (b) We would have to consider every possible length of boat as well as whether there would be collision between two or more hits (e.g. in situations like 1st-row-4th-column plot above if there were 2+ boats instead of only 1).\n",
    "2. The posterior would be hard to compute due to combinatorial explosion. The total number of arrangements of boats is extremely large, even for toy problems like these 10x10 grids."
   ]
  }
 ],
 "metadata": {
  "kernelspec": {
   "display_name": "Python 3",
   "language": "python",
   "name": "python3"
  },
  "language_info": {
   "codemirror_mode": {
    "name": "ipython",
    "version": 3
   },
   "file_extension": ".py",
   "mimetype": "text/x-python",
   "name": "python",
   "nbconvert_exporter": "python",
   "pygments_lexer": "ipython3",
   "version": "3.7.4"
  }
 },
 "nbformat": 4,
 "nbformat_minor": 4
}
