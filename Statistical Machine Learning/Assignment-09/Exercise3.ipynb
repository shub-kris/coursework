{
 "cells": [
  {
   "cell_type": "markdown",
   "metadata": {
    "deletable": false,
    "editable": false,
    "nbgrader": {
     "cell_type": "markdown",
     "checksum": "1b52b19c95c962bc65f25c94c26e6a17",
     "grade": false,
     "grade_id": "cell-754b0463ef814d98",
     "locked": true,
     "schema_version": 3,
     "solution": false,
     "task": false
    }
   },
   "source": [
    "# Assignment 9 - Exercise 3\n",
    "### Due July 2 at 14:00\n",
    "\n",
    "**This notebook contains interactive widgets. \n",
    "They work on the standard editors *jupyter-notebook* and *jupyter-lab*, but we have no experience for other editors.**\n",
    "\n",
    "Please note: \n",
    "\n",
    "- Read the instructions in the exercise PDF and in this notebook carefully.\n",
    "- Add your solutions *only* at `YOUR CODE HERE`/`YOUR ANSWER HERE` and remove the corresponding `raise NotImplementedError()`.\n",
    "- Do not chance the provided code and text, if not stated.\n",
    "- Do not *add* or *delete* cells.\n",
    "- Do not `import` additional functionality. \n",
    "- Before submitting: Please make sure, that your notebook can be executed from top to bottom `Menu -> Kernel -> Restart & Run all`. "
   ]
  },
  {
   "cell_type": "markdown",
   "metadata": {
    "deletable": false,
    "editable": false,
    "nbgrader": {
     "cell_type": "markdown",
     "checksum": "4adacb701ae01948ffdb8c898a46b415",
     "grade": false,
     "grade_id": "cell-bbe6d036647f5dd3",
     "locked": true,
     "schema_version": 3,
     "solution": false,
     "task": false
    }
   },
   "source": [
    "## Exercise 3: Similarity Graphs"
   ]
  },
  {
   "cell_type": "code",
   "execution_count": 1,
   "metadata": {
    "deletable": false,
    "editable": false,
    "nbgrader": {
     "cell_type": "code",
     "checksum": "b4943253c5ef7b49947f2dfbb6269782",
     "grade": false,
     "grade_id": "cell-a05ffbce4eb8e731",
     "locked": true,
     "schema_version": 3,
     "solution": false,
     "task": false
    }
   },
   "outputs": [],
   "source": [
    "%matplotlib inline\n",
    "import matplotlib.pyplot as plt\n",
    "import numpy as np\n",
    "import pandas as pd\n",
    "from ipywidgets import interact, fixed\n",
    "import ipywidgets as widgets\n",
    "\n",
    "from numpy.testing import assert_equal, assert_almost_equal\n",
    "from sklearn.datasets import make_moons\n",
    "from sklearn.metrics.pairwise import euclidean_distances\n",
    "import seaborn as sns\n",
    "import sklearn.neighbors\n",
    "import scipy.sparse.csgraph"
   ]
  },
  {
   "cell_type": "code",
   "execution_count": 2,
   "metadata": {
    "deletable": false,
    "editable": false,
    "nbgrader": {
     "cell_type": "code",
     "checksum": "f340330ee2d02065977c928f0e572e4b",
     "grade": false,
     "grade_id": "cell-0160b31da7ba00ec",
     "locked": true,
     "schema_version": 3,
     "solution": false,
     "task": false
    }
   },
   "outputs": [],
   "source": [
    "# Generate the two moons datasets\n",
    "n_samples = 100\n",
    "X_moons, y_moons = make_moons(n_samples=n_samples, noise=0, shuffle=False, random_state=42)\n",
    "X_noisy_moons, y_noisy_moons = make_moons(n_samples=n_samples, noise=0.15, shuffle=False, random_state=42)\n",
    "\n",
    "# Shuffle points inside each class\n",
    "_ = np.random.shuffle(X_moons[:int(n_samples/2)]), np.random.shuffle(X_moons[int(n_samples/2):])\n",
    "_ = np.random.shuffle(X_noisy_moons[:int(n_samples/2)]), np.random.shuffle(X_noisy_moons[int(n_samples/2):])"
   ]
  },
  {
   "cell_type": "code",
   "execution_count": 3,
   "metadata": {
    "deletable": false,
    "editable": false,
    "nbgrader": {
     "cell_type": "code",
     "checksum": "5e9107dc42134ca9afb87b9031b376da",
     "grade": false,
     "grade_id": "cell-c96560b670ba777a",
     "locked": true,
     "schema_version": 3,
     "solution": false,
     "task": false
    }
   },
   "outputs": [
    {
     "data": {
      "image/png": "[encoded data removed]",
      "text/plain": [
       "<Figure size 792x360 with 2 Axes>"
      ]
     },
     "metadata": {
      "needs_background": "light"
     },
     "output_type": "display_data"
    }
   ],
   "source": [
    "# Visualize the datasets\n",
    "fig, (ax1, ax2) = plt.subplots(1, 2, figsize=(11,5))\n",
    "ax1.scatter(X_moons[y_moons==0, 0], X_moons[y_moons==0, 1], label='Group 0')\n",
    "ax1.scatter(X_moons[y_moons==1, 0], X_moons[y_moons==1, 1], label='Group 1')\n",
    "ax1.set_title('Original two moons dataset')\n",
    "ax1.legend()\n",
    "ax1.set_aspect('equal')\n",
    "\n",
    "ax2.scatter(X_noisy_moons[y_noisy_moons==0, 0], X_noisy_moons[y_noisy_moons==0, 1], label='Group 0')\n",
    "ax2.scatter(X_noisy_moons[y_noisy_moons==1, 0], X_noisy_moons[y_noisy_moons==1, 1], label='Group 1')\n",
    "ax2.set_title('Noisy two moons dataset')\n",
    "ax2.legend()\n",
    "ax2.set_aspect('equal')\n",
    "\n",
    "plt.show()"
   ]
  },
  {
   "cell_type": "markdown",
   "metadata": {
    "deletable": false,
    "editable": false,
    "nbgrader": {
     "cell_type": "markdown",
     "checksum": "a564cef1d3daa54edbb93d25bc2f2a1c",
     "grade": false,
     "grade_id": "cell-a5517db218ebd4d2",
     "locked": true,
     "schema_version": 3,
     "solution": false,
     "task": false
    }
   },
   "source": [
    "### (a) \n",
    "Implement  the  function `plot_similarities(X, sigma)` to  compute  the  paired  similarities with a Gaussian kernel and show them as a heat map."
   ]
  },
  {
   "cell_type": "code",
   "execution_count": 4,
   "metadata": {
    "deletable": false,
    "nbgrader": {
     "cell_type": "code",
     "checksum": "cb7a4ca6d9135a118b3349c706f92a08",
     "grade": true,
     "grade_id": "cell-b17bb1210ac9540d",
     "locked": false,
     "points": 1,
     "schema_version": 3,
     "solution": true,
     "task": false
    }
   },
   "outputs": [],
   "source": [
    "def plot_similarities(X, sigma):\n",
    "    ''' \n",
    "    Plot the paired similarities with a Gaussian kernel,\n",
    "    by using a heat map.\n",
    "        \n",
    "    Parameters\n",
    "    ----------\n",
    "    X: input matrix\n",
    "    sigma: kernel parameter\n",
    "    '''\n",
    "    ed = euclidean_distances(X) ** 2\n",
    "    K = np.exp(- ed / (2 * sigma ** 2))\n",
    "    \n",
    "    plt.figure()\n",
    "    plt.imshow(K)\n",
    "    plt.title('Heatmap of similarity values')\n",
    "    plt.gca().set_aspect('equal')\n",
    "    plt.show()"
   ]
  },
  {
   "cell_type": "code",
   "execution_count": 5,
   "metadata": {
    "deletable": false,
    "editable": false,
    "nbgrader": {
     "cell_type": "code",
     "checksum": "24bfc3fa2c6a6ace378fde2b0c6bc2d4",
     "grade": false,
     "grade_id": "cell-cdc70dcc70495e46",
     "locked": true,
     "schema_version": 3,
     "solution": false,
     "task": false
    }
   },
   "outputs": [
    {
     "data": {
      "application/vnd.jupyter.widget-view+json": {
       "model_id": "80acefc2e241433fb8b3dc7f00f6551f",
       "version_major": 2,
       "version_minor": 0
      },
      "text/plain": [
       "interactive(children=(FloatLogSlider(value=3.1622776601683795, continuous_update=False, description='sigma', m…"
      ]
     },
     "metadata": {},
     "output_type": "display_data"
    },
    {
     "data": {
      "application/vnd.jupyter.widget-view+json": {
       "model_id": "f7feac8d1aec4effb7d22eae650fc7be",
       "version_major": 2,
       "version_minor": 0
      },
      "text/plain": [
       "interactive(children=(FloatLogSlider(value=3.1622776601683795, continuous_update=False, description='sigma', m…"
      ]
     },
     "metadata": {},
     "output_type": "display_data"
    }
   ],
   "source": [
    "sigma_props = dict(min=-2, max=2, step=0.1, value=10**.5, continuous_update=False)\n",
    "\n",
    "interact(plot_similarities, X=fixed(X_moons), sigma=widgets.FloatLogSlider(**sigma_props));\n",
    "interact(plot_similarities, X=fixed(X_noisy_moons), sigma=widgets.FloatLogSlider(**sigma_props));"
   ]
  },
  {
   "cell_type": "markdown",
   "metadata": {
    "deletable": false,
    "nbgrader": {
     "cell_type": "markdown",
     "checksum": "cec71c590d6441a8def0bc84ab1b22f8",
     "grade": true,
     "grade_id": "cell-1ca250695238147f",
     "locked": false,
     "points": 1,
     "schema_version": 3,
     "solution": true,
     "task": false
    }
   },
   "source": [
    "- **Which values of $\\sigma$ would you choose, and why?**\n",
    "\n",
    "    <font color=\"blue\">We would choose $\\sigma = 0.25$ because it densely connects same-class data points while sparsely connecting data points from differenct classes.</font>\n",
    "    \n",
    "    \n",
    "- **What is the role of noise, how does it influence your choice of $\\sigma$?**\n",
    "\n",
    "    <font color=\"blue\">In this case, the noise parameter increases edges between data points from different classes. As a consequence, we have to choose a smaller value for $\\sigma$.</font>\n"
   ]
  },
  {
   "cell_type": "markdown",
   "metadata": {
    "deletable": false,
    "editable": false,
    "nbgrader": {
     "cell_type": "markdown",
     "checksum": "b229f9e2f91e51af56c8d74bd4267172",
     "grade": false,
     "grade_id": "cell-99df8fc9fb470d87",
     "locked": true,
     "schema_version": 3,
     "solution": false,
     "task": false
    }
   },
   "source": [
    "### (b) \n",
    "Now implement the function `plot_graph(X, k, mutual)`, which uses `sklearn.neighbors.kneighbors_graph` to create a graph and plots the adjacency matrix. Based on the parameter `mutual`, the graph should be either symmetric or mutual."
   ]
  },
  {
   "cell_type": "code",
   "execution_count": 6,
   "metadata": {
    "deletable": false,
    "editable": false,
    "nbgrader": {
     "cell_type": "code",
     "checksum": "5e919c4b5b9e597b8e838bed467964f7",
     "grade": false,
     "grade_id": "cell-3d109edfca3dd91b",
     "locked": true,
     "schema_version": 3,
     "solution": false,
     "task": false
    }
   },
   "outputs": [],
   "source": [
    "def unbalanced_gaussian(n_samples = 100, n_dimension = 200, ratio=0.2):\n",
    "    \"\"\" Generate unbalanced Gaussian dataset \"\"\"\n",
    "    n_class_0 = int(n_samples * ratio)\n",
    "\n",
    "    png = np.random.RandomState(42)\n",
    "    X_unb_gaussian = png.normal(0, .6, size=(n_samples, n_dimension))\n",
    "    X_unb_gaussian[:n_class_0, :2] -= 1.1\n",
    "    X_unb_gaussian[n_class_0:, :2] += 1.\n",
    "\n",
    "    y_unb_gaussian = np.zeros((n_samples, ))\n",
    "    y_unb_gaussian[:n_class_0] = 0\n",
    "    y_unb_gaussian[n_class_0:] = 1\n",
    "    \n",
    "    return X_unb_gaussian, y_unb_gaussian"
   ]
  },
  {
   "cell_type": "code",
   "execution_count": 7,
   "metadata": {
    "deletable": false,
    "editable": false,
    "nbgrader": {
     "cell_type": "code",
     "checksum": "fe56ced21e1e75d3290e7c7f24a8e276",
     "grade": false,
     "grade_id": "cell-ca389880861ad4bd",
     "locked": true,
     "schema_version": 3,
     "solution": false,
     "task": false
    }
   },
   "outputs": [
    {
     "data": {
      "image/png": "[encoded data removed]",
      "text/plain": [
       "<Figure size 432x288 with 2 Axes>"
      ]
     },
     "metadata": {
      "needs_background": "light"
     },
     "output_type": "display_data"
    }
   ],
   "source": [
    "# Visualize the Gaussian datasets\n",
    "X_unb_gaussian, y_unb_gaussian = unbalanced_gaussian(n_dimension=200)\n",
    "\n",
    "plt.subplot(121, aspect='equal')\n",
    "plt.scatter(X_unb_gaussian[y_unb_gaussian==0, 0], X_unb_gaussian[y_unb_gaussian==0, 1], label='Group 0')\n",
    "plt.scatter(X_unb_gaussian[y_unb_gaussian==1, 0], X_unb_gaussian[y_unb_gaussian==1, 1], label='Group 1')\n",
    "plt.title('First two dimensions')\n",
    "\n",
    "plt.subplot(122, aspect='equal')\n",
    "plt.scatter(X_unb_gaussian[y_unb_gaussian==0, 2], X_unb_gaussian[y_unb_gaussian==0, 3], label='Group 0')\n",
    "plt.scatter(X_unb_gaussian[y_unb_gaussian==1, 2], X_unb_gaussian[y_unb_gaussian==1, 3], label='Group 1')\n",
    "plt.title('Two of the noise dimensions')\n",
    "\n",
    "plt.suptitle('Unbalanced Gaussian Dataset')\n",
    "plt.legend()\n",
    "\n",
    "plt.show()"
   ]
  },
  {
   "cell_type": "code",
   "execution_count": 8,
   "metadata": {
    "deletable": false,
    "nbgrader": {
     "cell_type": "code",
     "checksum": "b82522539b58f0563ff81f955e5bb309",
     "grade": true,
     "grade_id": "cell-f2f5dced6e4103d4",
     "locked": false,
     "points": 1,
     "schema_version": 3,
     "solution": true,
     "task": false
    }
   },
   "outputs": [],
   "source": [
    "def plot_graph(X, k=3, dim=2, mutual='symmetric'):\n",
    "    ''' \n",
    "    Plot the adjacency matrix of a graph created \n",
    "    by using the function kneighbors_graph of sklearn.neighbors.\n",
    "        \n",
    "    Parameters\n",
    "    ----------\n",
    "    X: input matrix (n, d)\n",
    "    k: number of neighbors for each sample\n",
    "    dim: number of dimensions to use\n",
    "    mutual: parameter for choosing mutual kNN or symmetric kNN\n",
    "    '''\n",
    "    \n",
    "    # A is the adjancency matrix (n, n)\n",
    "    A = np.zeros((X.shape[0], X.shape[0]))\n",
    "    X = X[:, :dim]\n",
    "    \n",
    "    # fill and plot adjacency matrix\n",
    "    plt.subplot(121, aspect='equal')\n",
    "    \n",
    "    A = sklearn.neighbors.kneighbors_graph(X, n_neighbors=k).A\n",
    "    \n",
    "    if mutual == 'mutual':\n",
    "        A = (A + A.T > 0)\n",
    "\n",
    "    plt.imshow(A)\n",
    "    \n",
    "    # A is the adjancy matrix (n, n)\n",
    "    n_connected, _ = scipy.sparse.csgraph.connected_components(A)\n",
    "    plt.title('Adjacency Matrix '.format(mutual, ))\n",
    "\n",
    "    # plot  connections\n",
    "    plt.subplot(122, aspect='equal')\n",
    "    for x, a in zip(X, A):\n",
    "        for y in X[a.astype(bool)]:\n",
    "            plt.plot([x[0], y[0]], [x[1], y[1]], c='r')\n",
    "    plt.plot(X[:, 0], X[:, 1], '.', zorder=10)\n",
    "    plt.title('#Connected Components: {}'.format(n_connected))\n",
    "    plt.suptitle('{} kNN Graph'.format(mutual.capitalize()))\n",
    "    \n",
    "    plt.show()"
   ]
  },
  {
   "cell_type": "code",
   "execution_count": 9,
   "metadata": {
    "deletable": false,
    "editable": false,
    "nbgrader": {
     "cell_type": "code",
     "checksum": "2af7b0a4a2b3c1cdde958ce9fa9226ce",
     "grade": false,
     "grade_id": "cell-9144ad1875c30398",
     "locked": true,
     "schema_version": 3,
     "solution": false,
     "task": false
    }
   },
   "outputs": [
    {
     "data": {
      "application/vnd.jupyter.widget-view+json": {
       "model_id": "879ea6be8ae64205b8ca39ecef60c2f8",
       "version_major": 2,
       "version_minor": 0
      },
      "text/plain": [
       "interactive(children=(IntSlider(value=1, continuous_update=False, description='k', max=50, min=1), IntSlider(v…"
      ]
     },
     "metadata": {},
     "output_type": "display_data"
    },
    {
     "data": {
      "application/vnd.jupyter.widget-view+json": {
       "model_id": "adabb2c22b544b0b8a503da714418f19",
       "version_major": 2,
       "version_minor": 0
      },
      "text/plain": [
       "interactive(children=(IntSlider(value=1, continuous_update=False, description='k', max=50, min=1), IntSlider(v…"
      ]
     },
     "metadata": {},
     "output_type": "display_data"
    }
   ],
   "source": [
    "k_props = dict(min=1, max=50, continuous_update=False)\n",
    "dim_props = dict(min=2, max=200, step=2, continuous_update=False)\n",
    "\n",
    "interact(plot_graph, X=fixed(X_unb_gaussian), mutual=fixed('mutual'), k=widgets.IntSlider(**k_props), dim=widgets.IntSlider(**dim_props))\n",
    "interact(plot_graph, X=fixed(X_unb_gaussian), mutual=fixed('symmetric'), k=widgets.IntSlider(**k_props), dim=widgets.IntSlider(**dim_props));"
   ]
  },
  {
   "cell_type": "markdown",
   "metadata": {
    "deletable": false,
    "nbgrader": {
     "cell_type": "markdown",
     "checksum": "3f205009f711fd51ba4e74fdcb1d1fa3",
     "grade": true,
     "grade_id": "cell-5e0d90d21dde2f09",
     "locked": false,
     "points": 1,
     "schema_version": 3,
     "solution": true,
     "task": false
    }
   },
   "source": [
    "First use `dim=2`:\n",
    "\n",
    "- **For $d=2$, what is the smallest $k$ for which the graph consists of a single connected component (answer separately for symmetric and mutual)**\n",
    "\n",
    "    <font color=\"blue\">The smallest $k$ for which the graph consists of a single connected component is $4$ in both cases.</font>\n",
    "    \n",
    "    \n",
    "- **How do both graphs look like for small and high values of `k`?**\n",
    "\n",
    "    <font color=\"blue\">For small values of `k`, the graph is sparsely-connected. For large values of `k`, the graph is densely-connected.</font>\n",
    "\n",
    "\n",
    "Now increase `dim`:\n",
    "\n",
    "- **What happens for $d=200$? Do you have a (theoretical) explanation for this effect?**\n",
    "\n",
    "    <font color=\"red\">...</font>"
   ]
  },
  {
   "cell_type": "markdown",
   "metadata": {
    "deletable": false,
    "editable": false,
    "nbgrader": {
     "cell_type": "markdown",
     "checksum": "8aa2f6b17f0500b9ad14a8e56572fd48",
     "grade": false,
     "grade_id": "cell-22cd768cf6435d6d",
     "locked": true,
     "schema_version": 3,
     "solution": false,
     "task": false
    }
   },
   "source": [
    "### (c) \n",
    "\n",
    "At last, implement the function `plot_degree(X, k)`, which uses `sklearn.neighbors.kneighbors_graph` to create a graph and plots the degree of vertices in the graph."
   ]
  },
  {
   "cell_type": "code",
   "execution_count": 10,
   "metadata": {
    "deletable": false,
    "nbgrader": {
     "cell_type": "code",
     "checksum": "a65f0a5a40bfd5e6d3ae11b34b783a6a",
     "grade": true,
     "grade_id": "cell-72e427eb9af83262",
     "locked": false,
     "points": 0.5,
     "schema_version": 3,
     "solution": true,
     "task": false
    }
   },
   "outputs": [],
   "source": [
    "def plot_degree(X, k=3, mutual='symmetric'):\n",
    "    ''' \n",
    "    Plot the adjacency matrix of a graph created \n",
    "    by using the function kneighbors_graph of sklearn.neighbors.\n",
    "        \n",
    "    Parameters\n",
    "    ----------\n",
    "    X: input matrix\n",
    "    k: number of neighbors for each sample\n",
    "    mutual: parameter for choosing mutual kNN or symmetric kNN\n",
    "    '''\n",
    "    \n",
    "    A = sklearn.neighbors.kneighbors_graph(X, n_neighbors=k).A\n",
    "    \n",
    "    if mutual == 'mutual':\n",
    "        A = (A + A.T > 0)\n",
    "        \n",
    "    degrees = np.diag(np.sum(A, axis=1))\n",
    "    \n",
    "    plt.figure()\n",
    "    plt.imshow(degrees)\n",
    "    plt.colorbar()\n",
    "    plt.title('Degree per Point of {} kNN Graph'.format(mutual.capitalize()))\n",
    "    plt.show()"
   ]
  },
  {
   "cell_type": "code",
   "execution_count": 11,
   "metadata": {
    "deletable": false,
    "editable": false,
    "nbgrader": {
     "cell_type": "code",
     "checksum": "5c9a4813320ca5010b51a95d3180949b",
     "grade": false,
     "grade_id": "cell-240d889c0282d488",
     "locked": true,
     "schema_version": 3,
     "solution": false,
     "task": false
    }
   },
   "outputs": [
    {
     "data": {
      "application/vnd.jupyter.widget-view+json": {
       "model_id": "8b0199e3611649458f3cb852be7b2537",
       "version_major": 2,
       "version_minor": 0
      },
      "text/plain": [
       "interactive(children=(IntSlider(value=1, continuous_update=False, description='k', max=50, min=1), Output()), …"
      ]
     },
     "metadata": {},
     "output_type": "display_data"
    },
    {
     "data": {
      "application/vnd.jupyter.widget-view+json": {
       "model_id": "c0b79b4dd2f6435a99d8c8c9fef16cfb",
       "version_major": 2,
       "version_minor": 0
      },
      "text/plain": [
       "interactive(children=(IntSlider(value=1, continuous_update=False, description='k', max=50, min=1), Output()), …"
      ]
     },
     "metadata": {},
     "output_type": "display_data"
    }
   ],
   "source": [
    "k_props = dict(min=1, max=50, continuous_update=False)\n",
    "\n",
    "interact(plot_degree, X=fixed(X_unb_gaussian[:, :2]),  mutual=fixed('mutual'), k=widgets.IntSlider(**k_props))\n",
    "interact(plot_degree, X=fixed(X_unb_gaussian[:, :2]),  mutual=fixed('symmetric'), k=widgets.IntSlider(**k_props));"
   ]
  },
  {
   "cell_type": "markdown",
   "metadata": {
    "deletable": false,
    "nbgrader": {
     "cell_type": "markdown",
     "checksum": "b6ccdad814ffa6696107bb58a906476b",
     "grade": true,
     "grade_id": "cell-d244c04c903f7f61",
     "locked": false,
     "points": 0.5,
     "schema_version": 3,
     "solution": true,
     "task": false
    }
   },
   "source": [
    "- **What do you think is the relation between vertex degrees in the k-nearest neighbor graph and the probability distribution from which the data was drawn?**\n",
    "\n",
    "    <font color=\"red\">...</font>"
   ]
  }
 ],
 "metadata": {
  "kernelspec": {
   "display_name": "Python 3",
   "language": "python",
   "name": "python3"
  },
  "language_info": {
   "codemirror_mode": {
    "name": "ipython",
    "version": 3
   },
   "file_extension": ".py",
   "mimetype": "text/x-python",
   "name": "python",
   "nbconvert_exporter": "python",
   "pygments_lexer": "ipython3",
   "version": "3.7.4"
  }
 },
 "nbformat": 4,
 "nbformat_minor": 4
}
