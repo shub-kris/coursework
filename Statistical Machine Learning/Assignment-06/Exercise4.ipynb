{
 "cells": [
  {
   "cell_type": "markdown",
   "metadata": {
    "deletable": false,
    "editable": false,
    "nbgrader": {
     "cell_type": "markdown",
     "checksum": "573a23fb17788bc5cded586cb2a1d558",
     "grade": false,
     "grade_id": "cell-96d2211a5a01c5d4",
     "locked": true,
     "schema_version": 3,
     "solution": false,
     "task": false
    }
   },
   "source": [
    "# Assignment 6 - Exercise 4\n",
    "## Due June 11th at 14:00\n",
    "\n",
    "Please note: \n",
    "\n",
    "- Read the instructions in the exercise PDF and in this notebook carefully.\n",
    "- Add your solutions *only* at `YOUR CODE HERE`/`YOUR ANSWER HERE` and remove the corresponding `raise NotImplementedError()`.\n",
    "- Do not chance the provided code and text, if not stated.\n",
    "- Do not *add* or *delete* cells.\n",
    "- Do not `import` additional functionality. \n",
    "- Before submitting: Please make sure, that your notebook can be executed from top to bottom `Menu -> Kernel -> Restart & Run all`. "
   ]
  },
  {
   "cell_type": "code",
   "execution_count": 1,
   "metadata": {
    "deletable": false,
    "editable": false,
    "nbgrader": {
     "cell_type": "code",
     "checksum": "fe947e960353dbc04fd87d94e309682b",
     "grade": false,
     "grade_id": "cell-ffb10fbc071fc814",
     "locked": true,
     "schema_version": 3,
     "solution": false,
     "task": false
    }
   },
   "outputs": [],
   "source": [
    "%matplotlib inline\n",
    "import pandas as pd\n",
    "import numpy as np\n",
    "from sklearn.svm import SVC\n",
    "from sklearn.linear_model import LogisticRegression\n",
    "from sklearn.model_selection import GridSearchCV\n",
    "import matplotlib.pyplot as plt\n",
    "from tqdm import tqdm\n",
    "\n",
    "#  Hide warnings of LinearSVC, LogisticRegression\n",
    "import warnings\n",
    "from sklearn.exceptions import ConvergenceWarning\n",
    "warnings.simplefilter(action='ignore', category=FutureWarning)\n",
    "warnings.simplefilter(action='ignore', category=ConvergenceWarning)"
   ]
  },
  {
   "cell_type": "code",
   "execution_count": 2,
   "metadata": {
    "deletable": false,
    "editable": false,
    "nbgrader": {
     "cell_type": "code",
     "checksum": "cec9a09b35f8364a2b0116c38874769d",
     "grade": false,
     "grade_id": "cell-b90546334e21cb00",
     "locked": true,
     "schema_version": 3,
     "solution": false,
     "task": false
    }
   },
   "outputs": [],
   "source": [
    "df = pd.read_csv('cvtrain.csv')\n",
    "X_train, y_train = df.drop(columns='y').to_numpy(), df[['y']].to_numpy().flatten()"
   ]
  },
  {
   "cell_type": "code",
   "execution_count": 3,
   "metadata": {
    "deletable": false,
    "editable": false,
    "nbgrader": {
     "cell_type": "code",
     "checksum": "d10d5582b2226e1f9c8f8210f4fc27d5",
     "grade": false,
     "grade_id": "cell-0d02e7ac84cd28f6",
     "locked": true,
     "schema_version": 3,
     "solution": false,
     "task": false
    }
   },
   "outputs": [],
   "source": [
    "df = pd.read_csv('cvtest.csv')\n",
    "X_test, y_test = df.drop(columns='y').to_numpy(), df[['y']].to_numpy().flatten()"
   ]
  },
  {
   "cell_type": "code",
   "execution_count": 4,
   "metadata": {
    "deletable": false,
    "editable": false,
    "nbgrader": {
     "cell_type": "code",
     "checksum": "a9cb4b14108a96734e5ec5b81c8b0ff8",
     "grade": false,
     "grade_id": "cell-6e628816afa5b9b8",
     "locked": true,
     "schema_version": 3,
     "solution": false,
     "task": false
    }
   },
   "outputs": [],
   "source": [
    "# let's have a look at these folds\n",
    "k_folds = [2, 3, 5, 10]"
   ]
  },
  {
   "cell_type": "code",
   "execution_count": 5,
   "metadata": {
    "deletable": false,
    "editable": false,
    "nbgrader": {
     "cell_type": "code",
     "checksum": "366d4eeb055ae224f63d685f85893d5f",
     "grade": false,
     "grade_id": "cell-1cd6dbf563485b17",
     "locked": true,
     "schema_version": 3,
     "solution": false,
     "task": false
    }
   },
   "outputs": [],
   "source": [
    "# we want to choose among these hyperparameters\n",
    "parameters = {'C': np.logspace(-4, 4, num=20)}"
   ]
  },
  {
   "cell_type": "markdown",
   "metadata": {
    "deletable": false,
    "editable": false,
    "nbgrader": {
     "cell_type": "markdown",
     "checksum": "14b96b013d53bf17381c2e975e66979f",
     "grade": false,
     "grade_id": "cell-880a60128c38f42b",
     "locked": true,
     "schema_version": 3,
     "solution": false,
     "task": false
    }
   },
   "source": [
    "# a) Validation"
   ]
  },
  {
   "cell_type": "code",
   "execution_count": 6,
   "metadata": {
    "deletable": false,
    "editable": false,
    "nbgrader": {
     "cell_type": "code",
     "checksum": "d0a1732bb6789ee5c19bc5eeb20389df",
     "grade": false,
     "grade_id": "cell-3aa305bc2920abd7",
     "locked": true,
     "schema_version": 3,
     "solution": false,
     "task": false
    }
   },
   "outputs": [],
   "source": [
    "from sklearn.model_selection import ShuffleSplit\n",
    "from sklearn.model_selection import GridSearchCV"
   ]
  },
  {
   "cell_type": "code",
   "execution_count": 7,
   "metadata": {
    "deletable": false,
    "nbgrader": {
     "cell_type": "code",
     "checksum": "9c91e36583aa23e9a6d4d10b44c8fabb",
     "grade": true,
     "grade_id": "cell-39011f127273d88f",
     "locked": false,
     "points": 1,
     "schema_version": 3,
     "solution": true,
     "task": false
    }
   },
   "outputs": [
    {
     "name": "stdout",
     "output_type": "stream",
     "text": [
      "k:  2 | Best params: {'C': 11.288378916846883} | Val. score: 0.8155 | Test score: 0.8259\n",
      "k:  3 | Best params: {'C': 0.23357214690901212} | Val. score: 0.8396 | Test score: 0.8263\n",
      "k:  5 | Best params: {'C': 0.23357214690901212} | Val. score: 0.8450 | Test score: 0.8263\n",
      "k: 10 | Best params: {'C': 0.23357214690901212} | Val. score: 0.8450 | Test score: 0.8263\n",
      "\n",
      "The best k is 3, and the best test score is 0.8263\n"
     ]
    }
   ],
   "source": [
    "best_test_acc = 0\n",
    "\n",
    "for k in k_folds:\n",
    "    clf=GridSearchCV(LogisticRegression(penalty=\"l2\"), parameters,\n",
    "                     cv=ShuffleSplit(train_size=(k-1)/k, random_state=0))\n",
    "    \n",
    "    clf.fit(X_train, y_train)\n",
    "    test_acc = clf.score(X_test, y_test)\n",
    "    \n",
    "    print(f\"k: {k:2d} | Best params: {clf.best_params_} | Val. score: {clf.best_score_:.4f} | Test score: {test_acc:.4f}\")\n",
    "\n",
    "    if best_test_acc < test_acc:\n",
    "        best_test_acc = test_acc\n",
    "        best_k = k\n",
    "        \n",
    "print()\n",
    "print(f\"The best k is {best_k}, and the best test score is {best_test_acc:.4f}\")"
   ]
  },
  {
   "cell_type": "markdown",
   "metadata": {
    "deletable": false,
    "editable": false,
    "nbgrader": {
     "cell_type": "markdown",
     "checksum": "516d6988d207256f0eb09c264aaa352c",
     "grade": false,
     "grade_id": "cell-1de634eeb1d1e6e0",
     "locked": true,
     "schema_version": 3,
     "solution": false,
     "task": false
    }
   },
   "source": [
    "# b) Mean and variance introduced by validation"
   ]
  },
  {
   "cell_type": "code",
   "execution_count": 8,
   "metadata": {
    "deletable": false,
    "editable": false,
    "nbgrader": {
     "cell_type": "code",
     "checksum": "3bcc12c96a845b6818954baa0037b5b4",
     "grade": false,
     "grade_id": "cell-ea3641f0b722675e",
     "locked": true,
     "schema_version": 3,
     "solution": false,
     "task": false
    }
   },
   "outputs": [],
   "source": [
    "from sklearn.model_selection import ShuffleSplit"
   ]
  },
  {
   "cell_type": "code",
   "execution_count": 9,
   "metadata": {
    "deletable": false,
    "nbgrader": {
     "cell_type": "code",
     "checksum": "c7b75756eaf06bfb93b5c0d3028cbd8a",
     "grade": true,
     "grade_id": "cell-7637ddcd0d49a12b",
     "locked": false,
     "points": 2,
     "schema_version": 3,
     "solution": true,
     "task": false
    }
   },
   "outputs": [],
   "source": [
    "# if you use the data structure\n",
    "# val_acc = [[results off all replications with k=2], ..., [results off all replications with k=10]]\n",
    "# the violin plots below will work automatically\n",
    "val_acc = [[] for k in k_folds]\n",
    "test_acc = [[] for k in k_folds]\n",
    "\n",
    "for idx, k in enumerate(k_folds):\n",
    "    n = int(len(X_train) * (k-1) / k)\n",
    "    \n",
    "    ss = ShuffleSplit(n_splits=30, train_size=(k-1) / k, random_state=0)\n",
    "    \n",
    "    for train_index, val_index in ss.split(X_train):\n",
    "        xtr = X_train[train_index, :]\n",
    "        xvl = X_train[val_index, :]\n",
    "        \n",
    "        ytr = y_train[train_index]\n",
    "        yvl = y_train[val_index]\n",
    "        \n",
    "        clf = LogisticRegression(penalty=\"l2\").fit(xtr, ytr)\n",
    "        \n",
    "        train_score = clf.score(xtr, ytr)\n",
    "        val_score = clf.score(xvl, yvl)\n",
    "        test_score = clf.score(X_test, y_test)\n",
    "        \n",
    "        val_acc[idx].append(val_score)\n",
    "        test_acc[idx].append(test_score)\n",
    "        \n",
    "#         print(f\"k: {k:2d} |  Train score: {train_score:.4f} | Val. score: {val_score:.4f} | Test score: {test_score:.4f}\")\n",
    "        \n",
    "#     print()"
   ]
  },
  {
   "cell_type": "code",
   "execution_count": 10,
   "metadata": {},
   "outputs": [
    {
     "name": "stdout",
     "output_type": "stream",
     "text": [
      "k=2 mean val=0.8142 (0.0213)     mean test=0.8165 (0.0058)\n",
      "k=3 mean val=0.8264 (0.0293)     mean test=0.8208 (0.0030)\n",
      "k=5 mean val=0.8321 (0.0386)     mean test=0.8234 (0.0022)\n",
      "k=10 mean val=0.8467 (0.0664)     mean test=0.8248 (0.0013)\n"
     ]
    }
   ],
   "source": [
    "for idx, k in enumerate(k_folds):\n",
    "    print(f'k={k} mean val={np.mean(val_acc[idx]):.4f} ({np.std(val_acc[idx]):.4f}) \\\n",
    "    mean test={np.mean(test_acc[idx]):.4f} ({np.std(test_acc[idx]):.4f})')"
   ]
  },
  {
   "cell_type": "markdown",
   "metadata": {
    "deletable": false,
    "editable": false,
    "nbgrader": {
     "cell_type": "markdown",
     "checksum": "ceb5fd684e23b69c2a6e28833434f0ac",
     "grade": false,
     "grade_id": "cell-f55c4c6f318001d7",
     "locked": true,
     "schema_version": 3,
     "solution": false,
     "task": false
    }
   },
   "source": [
    "### Violin plots offer a nice way to visualize the distributions"
   ]
  },
  {
   "cell_type": "code",
   "execution_count": 11,
   "metadata": {
    "deletable": false,
    "editable": false,
    "nbgrader": {
     "cell_type": "code",
     "checksum": "bfbfd7b3eb3af127983bcc97c420a0e5",
     "grade": false,
     "grade_id": "cell-d264bb18bf6b09f5",
     "locked": true,
     "schema_version": 3,
     "solution": false,
     "task": false
    }
   },
   "outputs": [],
   "source": [
    "def set_axis_style(ax, labels):\n",
    "    ax.get_xaxis().set_tick_params(direction='out')\n",
    "    ax.xaxis.set_ticks_position('bottom')\n",
    "    ax.set_xticks(np.arange(1, len(labels) + 1))\n",
    "    ax.set_xticklabels(labels)\n",
    "    ax.set_xlim(0.25, len(labels) + 0.75)\n",
    "    ax.set_xlabel('number of folds k')"
   ]
  },
  {
   "cell_type": "code",
   "execution_count": 12,
   "metadata": {},
   "outputs": [
    {
     "data": {
      "image/png": "[encoded data removed]",
      "text/plain": [
       "<Figure size 1080x432 with 2 Axes>"
      ]
     },
     "metadata": {
      "needs_background": "light"
     },
     "output_type": "display_data"
    }
   ],
   "source": [
    "fig, ax = plt.subplots(nrows=1, ncols=2, figsize=(15, 6))\n",
    "ax[0].violinplot(val_acc, showmeans=True, showextrema=False)\n",
    "ax[0].set_ylim([0.5, 1])\n",
    "ax[0].set_title('Validation')\n",
    "ax[0].set_ylabel('accuracy')\n",
    "ax[1].violinplot(test_acc, showmeans=True, showextrema=False)\n",
    "ax[1].set_ylim([0.5, 1])\n",
    "ax[1].set_title('Test')\n",
    "ax[1].set_ylabel('accuracy')\n",
    "set_axis_style(ax[0], k_folds)\n",
    "set_axis_style(ax[1], k_folds)"
   ]
  },
  {
   "cell_type": "markdown",
   "metadata": {
    "deletable": false,
    "editable": false,
    "nbgrader": {
     "cell_type": "markdown",
     "checksum": "fbe20692bd07ac7fa1d7122a1695398b",
     "grade": false,
     "grade_id": "cell-6ed0856b5cfc191a",
     "locked": true,
     "schema_version": 3,
     "solution": false,
     "task": false
    }
   },
   "source": [
    "# c) Mean and variance introduced by cross-validation"
   ]
  },
  {
   "cell_type": "code",
   "execution_count": 13,
   "metadata": {
    "deletable": false,
    "editable": false,
    "nbgrader": {
     "cell_type": "code",
     "checksum": "8da68f9a08aa8d02c81b7597ece1c51d",
     "grade": false,
     "grade_id": "cell-184b42d8102628b0",
     "locked": true,
     "schema_version": 3,
     "solution": false,
     "task": false
    }
   },
   "outputs": [],
   "source": [
    "from sklearn.model_selection import KFold"
   ]
  },
  {
   "cell_type": "code",
   "execution_count": 14,
   "metadata": {
    "deletable": false,
    "nbgrader": {
     "cell_type": "code",
     "checksum": "0056008b0d23f15ee6f9271b3ab78b38",
     "grade": true,
     "grade_id": "cell-a6afa67ccb72262f",
     "locked": false,
     "points": 2,
     "schema_version": 3,
     "solution": true,
     "task": false
    }
   },
   "outputs": [],
   "source": [
    "val_acc = [[] for k in k_folds]\n",
    "test_acc = [[] for k in k_folds]\n",
    "\n",
    "for idx, k in enumerate(k_folds):\n",
    "    kf = KFold(n_splits=k, shuffle=True)\n",
    "    ss = ShuffleSplit(n_splits=30)\n",
    "\n",
    "    for _ in range(30):\n",
    "\n",
    "        for train_index, val_index in kf.split(X_train):\n",
    "            xtr = X_train[train_index, :]\n",
    "            xvl = X_train[val_index, :]\n",
    "\n",
    "            ytr = y_train[train_index]\n",
    "            yvl = y_train[val_index]\n",
    "\n",
    "            clf = LogisticRegression(penalty=\"l2\").fit(xtr, ytr)\n",
    "\n",
    "            train_score = clf.score(xtr, ytr)\n",
    "            val_score = clf.score(xvl, yvl)\n",
    "            test_score = clf.score(X_test, y_test)\n",
    "\n",
    "            val_acc[idx].append(val_score)\n",
    "            test_acc[idx].append(test_score)\n",
    "\n",
    "#             print(f\"k: {k:2d} |  Train score: {train_score:.4f} | Val. score: {val_score:.4f} | Test score: {test_score:.4f}\")\n",
    "\n",
    "#     print()"
   ]
  },
  {
   "cell_type": "code",
   "execution_count": 15,
   "metadata": {},
   "outputs": [
    {
     "name": "stdout",
     "output_type": "stream",
     "text": [
      "k=2 mean val=0.8208 (0.0201)     mean test=0.8192 (0.0040)\n",
      "k=3 mean val=0.8228 (0.0281)     mean test=0.8218 (0.0027)\n",
      "k=5 mean val=0.8246 (0.0387)     mean test=0.8239 (0.0020)\n",
      "k=10 mean val=0.8313 (0.0576)     mean test=0.8250 (0.0013)\n"
     ]
    }
   ],
   "source": [
    "for idx, k in enumerate(k_folds):\n",
    "    print(f'k={k} mean val={np.mean(val_acc[idx]):.4f} ({np.std(val_acc[idx]):.4f}) \\\n",
    "    mean test={np.mean(test_acc[idx]):.4f} ({np.std(test_acc[idx]):.4f})')"
   ]
  },
  {
   "cell_type": "markdown",
   "metadata": {
    "deletable": false,
    "editable": false,
    "nbgrader": {
     "cell_type": "markdown",
     "checksum": "cca274763f0e62cacf0d2d8ffc09e452",
     "grade": false,
     "grade_id": "cell-4291db18c2d089f6",
     "locked": true,
     "schema_version": 3,
     "solution": false,
     "task": false
    }
   },
   "source": [
    "### The advantage of cross-validation becomes clear when we look at violin plots"
   ]
  },
  {
   "cell_type": "code",
   "execution_count": 16,
   "metadata": {},
   "outputs": [
    {
     "data": {
      "image/png": "[encoded data removed]",
      "text/plain": [
       "<Figure size 1080x432 with 2 Axes>"
      ]
     },
     "metadata": {
      "needs_background": "light"
     },
     "output_type": "display_data"
    }
   ],
   "source": [
    "fig, ax = plt.subplots(nrows=1, ncols=2, figsize=(15, 6))\n",
    "ax[0].violinplot(val_acc, showmeans=True, showextrema=False)\n",
    "ax[0].set_ylim([0.5, 1])\n",
    "ax[0].set_title('Validation')\n",
    "ax[0].set_ylabel('accuracy')\n",
    "ax[1].violinplot(test_acc, showmeans=True, showextrema=False)\n",
    "ax[1].set_ylim([0.5, 1])\n",
    "ax[1].set_title('Test')\n",
    "ax[1].set_ylabel('accuracy')\n",
    "set_axis_style(ax[0], k_folds)\n",
    "set_axis_style(ax[1], k_folds)"
   ]
  },
  {
   "cell_type": "markdown",
   "metadata": {
    "deletable": false,
    "editable": false,
    "nbgrader": {
     "cell_type": "markdown",
     "checksum": "b135c3e871230d4274aa0373dcfaf2ea",
     "grade": false,
     "grade_id": "cell-da918493d10d55d2",
     "locked": true,
     "schema_version": 3,
     "solution": false,
     "task": false
    }
   },
   "source": [
    "# d) How would you describe the influence of the parameter k in this example? "
   ]
  },
  {
   "cell_type": "markdown",
   "metadata": {
    "deletable": false,
    "nbgrader": {
     "cell_type": "markdown",
     "checksum": "9413267c2905ba2202b57564d5c340bd",
     "grade": true,
     "grade_id": "cell-4b651434dc2e3a38",
     "locked": false,
     "points": 1,
     "schema_version": 3,
     "solution": true,
     "task": false
    }
   },
   "source": [
    "<font color=\"blue\">The influence of the parameter $k$ is not much significant since the mean test error ranges from 81.78% to 82.50%.</font>"
   ]
  },
  {
   "cell_type": "markdown",
   "metadata": {
    "deletable": false,
    "editable": false,
    "nbgrader": {
     "cell_type": "markdown",
     "checksum": "019341b27619e4145bf0281f2f7447e2",
     "grade": false,
     "grade_id": "cell-611e3c36ab5c5ee9",
     "locked": true,
     "schema_version": 3,
     "solution": false,
     "task": false
    }
   },
   "source": [
    "# e)  Is it fair to directly compare the procedures from b) and c)?  Argue in terms of computational costs:  How many models does each method need to train?"
   ]
  },
  {
   "cell_type": "markdown",
   "metadata": {
    "deletable": false,
    "nbgrader": {
     "cell_type": "markdown",
     "checksum": "4eeb13ccb17dc54488c30ef688a8609d",
     "grade": true,
     "grade_id": "cell-0094e931588026bc",
     "locked": false,
     "points": 1,
     "schema_version": 3,
     "solution": true,
     "task": false
    }
   },
   "source": [
    "<font color=\"blue\">The method from (c) needs to train $k$ times more models than the method from (b).</font>"
   ]
  },
  {
   "cell_type": "markdown",
   "metadata": {
    "deletable": false,
    "editable": false,
    "nbgrader": {
     "cell_type": "markdown",
     "checksum": "fb934be0462868509cd874f9bf8ee472",
     "grade": false,
     "grade_id": "cell-ce0603c6415b95b7",
     "locked": true,
     "schema_version": 3,
     "solution": false,
     "task": false
    }
   },
   "source": [
    "# f) For leave-one-out, what is the variance due to the splitting of data? In this example, does leave-one-out perform better or worse than the best k found in c)?"
   ]
  },
  {
   "cell_type": "code",
   "execution_count": 17,
   "metadata": {
    "deletable": false,
    "editable": false,
    "nbgrader": {
     "cell_type": "code",
     "checksum": "217b2440f874f9524301ce893e445cea",
     "grade": false,
     "grade_id": "cell-a237a6b27ee1c90e",
     "locked": true,
     "schema_version": 3,
     "solution": false,
     "task": false
    }
   },
   "outputs": [],
   "source": [
    "from sklearn.model_selection import LeaveOneOut"
   ]
  },
  {
   "cell_type": "code",
   "execution_count": 18,
   "metadata": {
    "deletable": false,
    "nbgrader": {
     "cell_type": "code",
     "checksum": "a7515db964bca77867ece76f5dd9571f",
     "grade": false,
     "grade_id": "cell-9d71ad3f177fa562",
     "locked": false,
     "schema_version": 3,
     "solution": true,
     "task": false
    }
   },
   "outputs": [
    {
     "name": "stdout",
     "output_type": "stream",
     "text": [
      "Val. score mean: 0.8744 | Val. score std: 0.003708\n",
      "Test score mean: 0.8260 | Test score std: 0.000243\n"
     ]
    }
   ],
   "source": [
    "val_acc = []\n",
    "test_acc = []\n",
    "\n",
    "loo = LeaveOneOut()\n",
    "\n",
    "for train_index, test_index in loo.split(X_train):\n",
    "    xtr = X_train[train_index, :]\n",
    "    xvl = X_train[val_index, :]\n",
    "\n",
    "    ytr = y_train[train_index]\n",
    "    yvl = y_train[val_index]\n",
    "\n",
    "    clf = LogisticRegression(penalty=\"l2\").fit(xtr, ytr)\n",
    "\n",
    "    train_score = clf.score(xtr, ytr)\n",
    "    val_score = clf.score(xvl, yvl)\n",
    "    test_score = clf.score(X_test, y_test)\n",
    "\n",
    "    val_acc.append(val_score)\n",
    "    test_acc.append(test_score)\n",
    "\n",
    "print(f\"Val. score mean: {np.mean(val_acc):.4f} | Val. score std: {np.std(val_acc):.6f}\")\n",
    "print(f\"Test score mean: {np.mean(test_acc):.4f} | Test score std: {np.std(test_acc):.6f}\")"
   ]
  },
  {
   "cell_type": "markdown",
   "metadata": {
    "deletable": false,
    "nbgrader": {
     "cell_type": "markdown",
     "checksum": "416c16f8837445b9257cb94a376f0dbd",
     "grade": true,
     "grade_id": "cell-f9c6dde592e596ad",
     "locked": false,
     "points": 1,
     "schema_version": 3,
     "solution": true,
     "task": false
    }
   },
   "source": [
    "<font color=\"blue\">The variance due to the splitting of data is smaller than the variance for smaller number of $k$ since the LOOCV has more samples for the performance of the model in terms of accuracy. Furthermore, the LOOCV has comparatively similar performance to the best $k$ found in (c) (82.60% vs. 82.50%).\n",
    "</font>"
   ]
  }
 ],
 "metadata": {
  "kernelspec": {
   "display_name": "Python 3",
   "language": "python",
   "name": "python3"
  },
  "language_info": {
   "codemirror_mode": {
    "name": "ipython",
    "version": 3
   },
   "file_extension": ".py",
   "mimetype": "text/x-python",
   "name": "python",
   "nbconvert_exporter": "python",
   "pygments_lexer": "ipython3",
   "version": "3.7.6"
  }
 },
 "nbformat": 4,
 "nbformat_minor": 4
}
