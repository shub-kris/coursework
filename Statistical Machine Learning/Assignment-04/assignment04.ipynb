{
 "cells": [
  {
   "cell_type": "markdown",
   "metadata": {
    "deletable": false,
    "editable": false,
    "nbgrader": {
     "cell_type": "markdown",
     "checksum": "9a58d4f2104d6912d8d3ac2a9b5ed799",
     "grade": false,
     "grade_id": "cell-1d161bbb270ca16d",
     "locked": true,
     "schema_version": 3,
     "solution": false,
     "task": false
    }
   },
   "source": [
    "# Assignment 4\n",
    "## Due May 21 at 14:00\n",
    "\n",
    "Please do not chance any provided variable name. Read carefully the instructions in the exercise PDF and in this notebook. Add your solutions at `YOUR CODE HERE` and remove the corresponding `raise NotImplementedError()`.\n",
    "Before submitting: Please make sure, that your notebook can be executed from top to bottom without an error (Menu -> Kernel -> Restart & Run all). "
   ]
  },
  {
   "cell_type": "markdown",
   "metadata": {
    "deletable": false,
    "editable": false,
    "nbgrader": {
     "cell_type": "markdown",
     "checksum": "257dda5e89c2b312c14ee2debb3a1b62",
     "grade": false,
     "grade_id": "cell-3ac7fda3911b08c9",
     "locked": true,
     "schema_version": 3,
     "solution": false,
     "task": false
    }
   },
   "source": [
    "This is just because some defaults of sklearn will change in the next version and because the linear SVN does not converge in time. Without them one gets a lot of warnings."
   ]
  },
  {
   "cell_type": "code",
   "execution_count": 1,
   "metadata": {
    "deletable": false,
    "editable": false,
    "nbgrader": {
     "cell_type": "code",
     "checksum": "8d2931f8992dc2e3c42c58dbf2530950",
     "grade": false,
     "grade_id": "cell-f90dc297310bf5bc",
     "locked": true,
     "schema_version": 3,
     "solution": false,
     "task": false
    }
   },
   "outputs": [],
   "source": [
    "import warnings\n",
    "from sklearn.exceptions import ConvergenceWarning\n",
    "warnings.simplefilter(action='ignore', category=FutureWarning)\n",
    "warnings.simplefilter(action='ignore', category=ConvergenceWarning)"
   ]
  },
  {
   "cell_type": "code",
   "execution_count": 2,
   "metadata": {
    "deletable": false,
    "editable": false,
    "nbgrader": {
     "cell_type": "code",
     "checksum": "d86f2b15b5e2af2c933f1f196baefa8c",
     "grade": false,
     "grade_id": "cell-5749fdcb3173a82e",
     "locked": true,
     "schema_version": 3,
     "solution": false,
     "task": false
    }
   },
   "outputs": [],
   "source": [
    "%matplotlib inline\n",
    "import matplotlib.pyplot as plt\n",
    "import numpy as np\n",
    "import pandas as pd\n",
    "import pickle\n",
    "\n",
    "from sklearn.neighbors import KNeighborsClassifier\n",
    "from sklearn.linear_model import LogisticRegression\n",
    "from sklearn.datasets import make_classification\n",
    "from sklearn.model_selection import GridSearchCV\n",
    "from sklearn.svm import LinearSVC\n",
    "\n",
    "np.random.seed(42)"
   ]
  },
  {
   "cell_type": "markdown",
   "metadata": {
    "deletable": false,
    "editable": false,
    "nbgrader": {
     "cell_type": "markdown",
     "checksum": "e4988bb7681315adc078a1116fe327f6",
     "grade": false,
     "grade_id": "cell-7b81222c48dd5e16",
     "locked": true,
     "schema_version": 3,
     "solution": false,
     "task": false
    }
   },
   "source": [
    "## Exercise 1"
   ]
  },
  {
   "cell_type": "markdown",
   "metadata": {
    "deletable": false,
    "editable": false,
    "nbgrader": {
     "cell_type": "markdown",
     "checksum": "b38c58d293beb5a6495612805fd5c9b2",
     "grade": false,
     "grade_id": "cell-2bc2b8b8f13fe089",
     "locked": true,
     "schema_version": 3,
     "solution": false,
     "task": false
    }
   },
   "source": [
    "### a)"
   ]
  },
  {
   "cell_type": "code",
   "execution_count": 3,
   "metadata": {
    "deletable": false,
    "nbgrader": {
     "cell_type": "code",
     "checksum": "45769a2eaf8b88547f4c4badfc5c2fc8",
     "grade": false,
     "grade_id": "cell-9399f87b137ed865",
     "locked": false,
     "schema_version": 3,
     "solution": true,
     "task": false
    }
   },
   "outputs": [],
   "source": [
    "candies = pd.read_csv(\"candy-data.csv\")\n",
    "\n",
    "# create the variables names, xs, ys\n",
    "names = candies[\"competitorname\"].values\n",
    "xs = candies.drop([\"competitorname\", \"chocolate\"], axis=1).to_numpy()\n",
    "ys = candies[\"chocolate\"].to_numpy()"
   ]
  },
  {
   "cell_type": "code",
   "execution_count": null,
   "metadata": {
    "deletable": false,
    "editable": false,
    "nbgrader": {
     "cell_type": "code",
     "checksum": "4abac3f4bc8bc69f17132dfd3dde010f",
     "grade": true,
     "grade_id": "cell-f0c4805344f59e14",
     "locked": true,
     "points": 1,
     "schema_version": 3,
     "solution": false,
     "task": false
    }
   },
   "outputs": [],
   "source": []
  },
  {
   "cell_type": "code",
   "execution_count": 4,
   "metadata": {
    "deletable": false,
    "nbgrader": {
     "cell_type": "code",
     "checksum": "4cea5c22be05ff5703111c56c9766d68",
     "grade": false,
     "grade_id": "cell-d6ccb8087350dc6f",
     "locked": false,
     "schema_version": 3,
     "solution": true,
     "task": false
    }
   },
   "outputs": [],
   "source": [
    "# split (xs, ys) into (xs_train, ys_train) and (xs_test, ys_test)\n",
    "n = int(xs.shape[0] * 2 / 3)\n",
    "\n",
    "xs_train = xs[:n]\n",
    "xs_test = xs[n:]\n",
    "\n",
    "ys_train = ys[:n]\n",
    "ys_test = ys[n:]"
   ]
  },
  {
   "cell_type": "code",
   "execution_count": null,
   "metadata": {
    "deletable": false,
    "editable": false,
    "nbgrader": {
     "cell_type": "code",
     "checksum": "939ed4b1cd7a10653762e58c430a7ef8",
     "grade": true,
     "grade_id": "cell-a9c66ca3397721c4",
     "locked": true,
     "points": 1,
     "schema_version": 3,
     "solution": false,
     "task": false
    }
   },
   "outputs": [],
   "source": []
  },
  {
   "cell_type": "markdown",
   "metadata": {
    "deletable": false,
    "editable": false,
    "nbgrader": {
     "cell_type": "markdown",
     "checksum": "1030a70ba71288e3df0ee963b7762883",
     "grade": false,
     "grade_id": "cell-024e58dfbf458bb2",
     "locked": true,
     "schema_version": 3,
     "solution": false,
     "task": false
    }
   },
   "source": [
    "### b)"
   ]
  },
  {
   "cell_type": "code",
   "execution_count": 5,
   "metadata": {
    "deletable": false,
    "nbgrader": {
     "cell_type": "code",
     "checksum": "7105ad5ea01b5c159f45812300cc4465",
     "grade": false,
     "grade_id": "cell-b4ba83a9ddec12b3",
     "locked": false,
     "schema_version": 3,
     "solution": true,
     "task": false
    }
   },
   "outputs": [
    {
     "name": "stdout",
     "output_type": "stream",
     "text": [
      "Accuracy: 0.690\n"
     ]
    }
   ],
   "source": [
    "model = LogisticRegression()\n",
    "model.fit(xs_train, ys_train)\n",
    "\n",
    "pred = model.predict(xs_test)\n",
    "acc = np.mean(pred == ys_test)\n",
    "\n",
    "print(f\"Accuracy: {acc:.3f}\")\n",
    "\n",
    "# model = LogisticRegression()\n",
    "# model.fit(xs_train, ys_train)\n",
    "\n",
    "# acc = model.score(xs_test, ys_test)\n",
    "\n",
    "# print(f\"Accuracy: {acc:.3f}\")"
   ]
  },
  {
   "cell_type": "code",
   "execution_count": null,
   "metadata": {
    "deletable": false,
    "editable": false,
    "nbgrader": {
     "cell_type": "code",
     "checksum": "50ee7c152af320fe39c40183a5523602",
     "grade": true,
     "grade_id": "cell-16c2366f7ebeae16",
     "locked": true,
     "points": 2,
     "schema_version": 3,
     "solution": false,
     "task": false
    }
   },
   "outputs": [],
   "source": []
  },
  {
   "cell_type": "markdown",
   "metadata": {
    "deletable": false,
    "editable": false,
    "nbgrader": {
     "cell_type": "markdown",
     "checksum": "327c6ae54106576b6edac04562b3f44e",
     "grade": false,
     "grade_id": "cell-2e2a436e4084c35d",
     "locked": true,
     "schema_version": 3,
     "solution": false,
     "task": false
    }
   },
   "source": [
    "### c)"
   ]
  },
  {
   "cell_type": "code",
   "execution_count": 8,
   "metadata": {
    "deletable": false,
    "editable": false,
    "nbgrader": {
     "cell_type": "code",
     "checksum": "5c15b8bc773a48e54970e380a4d521f9",
     "grade": false,
     "grade_id": "cell-b9d80b6f8901388f",
     "locked": true,
     "schema_version": 3,
     "solution": false,
     "task": false
    }
   },
   "outputs": [],
   "source": [
    "Cs =  [0.001, 0.01, 0.1, 1, 10, 100, 1000]"
   ]
  },
  {
   "cell_type": "markdown",
   "metadata": {
    "deletable": false,
    "editable": false,
    "nbgrader": {
     "cell_type": "markdown",
     "checksum": "8f8eb8b3512b53bf9b440f78c84a44a9",
     "grade": false,
     "grade_id": "cell-08182cfebd591f5b",
     "locked": true,
     "schema_version": 3,
     "solution": false,
     "task": false
    }
   },
   "source": [
    "Until the next version of sklearn (0.22) we need to set iid to false otherwise it does not work like the CV presented in the slides.\n",
    "More here https://scikit-learn.org/stable/modules/generated/sklearn.model_selection.GridSearchCV.html"
   ]
  },
  {
   "cell_type": "code",
   "execution_count": 9,
   "metadata": {
    "deletable": false,
    "nbgrader": {
     "cell_type": "code",
     "checksum": "5281a6c9fac4e46fdd2e35a720cc1c66",
     "grade": false,
     "grade_id": "cell-43941d0028dc0178",
     "locked": false,
     "schema_version": 3,
     "solution": true,
     "task": false
    }
   },
   "outputs": [
    {
     "name": "stdout",
     "output_type": "stream",
     "text": [
      "Training errors\n",
      "   0.00 | 0.107\n",
      "   0.01 | 0.123\n",
      "   0.10 | 0.090\n",
      "   1.00 | 0.037\n",
      "  10.00 | 0.053\n",
      " 100.00 | 0.053\n",
      "1000.00 | 0.053\n",
      "\n",
      "Test errors\n",
      "   0.00 | 0.414\n",
      "   0.01 | 0.448\n",
      "   0.10 | 0.414\n",
      "   1.00 | 0.310\n",
      "  10.00 | 0.241\n",
      " 100.00 | 0.241\n",
      "1000.00 | 0.241\n",
      "\n"
     ]
    },
    {
     "name": "stderr",
     "output_type": "stream",
     "text": [
      "C:\\Users\\Maverick\\Anaconda3\\lib\\site-packages\\ipykernel_launcher.py:37: UserWarning: Matplotlib is currently using module://ipykernel.pylab.backend_inline, which is a non-GUI backend, so cannot show the figure.\n"
     ]
    },
    {
     "data": {
      "image/png": "[encoded data removed]",
      "text/plain": [
       "<Figure size 432x288 with 1 Axes>"
      ]
     },
     "metadata": {
      "needs_background": "light"
     },
     "output_type": "display_data"
    }
   ],
   "source": [
    "# Run cross validation using GridSearchCV\n",
    "\n",
    "# Compute cross validation error\n",
    "clf = GridSearchCV(model, {\"C\": Cs}, cv=10)\n",
    "clf.fit(xs_train, ys_train)\n",
    "\n",
    "train_errors = 1 - np.array(clf.cv_results_[\"mean_test_score\"])\n",
    "\n",
    "print(\"Training errors\")\n",
    "for i, error in enumerate(train_errors):\n",
    "    print(f\"{Cs[i]:7.2f} | {error:.3f}\")\n",
    "print()\n",
    "    \n",
    "# Compute test error\n",
    "test_scores = []\n",
    "for c in Cs:\n",
    "    clf = LogisticRegression(C=c)\n",
    "    clf.fit(xs_train, ys_train)\n",
    "    score = clf.score(xs_test, ys_test)\n",
    "    test_scores.append(score)\n",
    "    \n",
    "test_errors = 1 - np.array(test_scores)\n",
    "\n",
    "print(\"Test errors\")\n",
    "for i, error in enumerate(test_errors):\n",
    "    print(f\"{Cs[i]:7.2f} | {error:.3f}\")\n",
    "print()\n",
    "\n",
    "# Plot results in new figure\n",
    "fig, axis = plt.subplots(1)\n",
    "\n",
    "axis.plot(Cs, train_errors, '--o', label=\"Train errors\")\n",
    "axis.plot(Cs, test_errors, '--o', label=\"Test errors\")\n",
    "axis.set_xscale(\"log\")\n",
    "fig.legend()\n",
    "fig.savefig(\"fig\")\n",
    "fig.show()"
   ]
  },
  {
   "cell_type": "code",
   "execution_count": null,
   "metadata": {
    "deletable": false,
    "editable": false,
    "nbgrader": {
     "cell_type": "code",
     "checksum": "5db59a74c263b684bd1f28f9bcb06fb4",
     "grade": true,
     "grade_id": "cell-960875cd304be164",
     "locked": true,
     "points": 2,
     "schema_version": 3,
     "solution": false,
     "task": false
    }
   },
   "outputs": [],
   "source": []
  },
  {
   "cell_type": "markdown",
   "metadata": {
    "deletable": false,
    "editable": false,
    "nbgrader": {
     "cell_type": "markdown",
     "checksum": "95dab367c3011dc0486b850a731d2e09",
     "grade": false,
     "grade_id": "cell-28f9c2a16c118768",
     "locked": true,
     "schema_version": 3,
     "solution": false,
     "task": false
    }
   },
   "source": [
    "### d) Comment. Does CV choose the best C? How do different values of C compare with respect to over/underfitting? Does the optimal C change if you run the code again? "
   ]
  },
  {
   "cell_type": "markdown",
   "metadata": {},
   "source": [
    "- The value of $C$ that yield the minimum training error is ($1$). But, The minimum test error occurs for 3 different values of  $C = 10, 100, 1000$. Therefore, the cross validation doesn't choose the best $C$. All the values for $C$ are overfitted because for all of them the training erros is lower than the test error. We can also observe that $C = 0.10$ is the one with most overfitting.\n",
    "- If we re-run the code, the best $C$ does not change. "
   ]
  },
  {
   "cell_type": "code",
   "execution_count": null,
   "metadata": {},
   "outputs": [],
   "source": []
  }
 ],
 "metadata": {
  "kernelspec": {
   "display_name": "Python 3",
   "language": "python",
   "name": "python3"
  },
  "language_info": {
   "codemirror_mode": {
    "name": "ipython",
    "version": 3
   },
   "file_extension": ".py",
   "mimetype": "text/x-python",
   "name": "python",
   "nbconvert_exporter": "python",
   "pygments_lexer": "ipython3",
   "version": "3.7.4"
  }
 },
 "nbformat": 4,
 "nbformat_minor": 4
}
