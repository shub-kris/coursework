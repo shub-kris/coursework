{
 "cells": [
  {
   "cell_type": "markdown",
   "metadata": {
    "deletable": false,
    "editable": false,
    "nbgrader": {
     "cell_type": "markdown",
     "checksum": "51bdc1919caa30c172b50aad1eedcd44",
     "grade": false,
     "grade_id": "cell-96d2211a5a01c5d4",
     "locked": true,
     "schema_version": 3,
     "solution": false,
     "task": false
    }
   },
   "source": [
    "# Assignment 5\n",
    "## Due May 28 at 14:00\n",
    "\n",
    "Please note: \n",
    "\n",
    "- Read the instructions in the exercise PDF and in this notebook carefully.\n",
    "- Add your solutions *only* at `YOUR CODE HERE`/`YOUR ANSWER HERE` and remove the corresponding `raise NotImplementedError()`.\n",
    "- Do not chance the provided code and text, if not stated.\n",
    "- Do not *add* or *delete* cells.\n",
    "- Do not `import` additional functionality. \n",
    "- Before submitting: Please make sure, that your notebook can be executed from top to bottom `Menu -> Kernel -> Restart & Run all`. "
   ]
  },
  {
   "cell_type": "code",
   "execution_count": 1,
   "metadata": {
    "deletable": false,
    "editable": false,
    "nbgrader": {
     "cell_type": "code",
     "checksum": "1c15ccf1ddbaafce49223fb330abaabb",
     "grade": false,
     "grade_id": "cell-ffb10fbc071fc814",
     "locked": true,
     "schema_version": 3,
     "solution": false,
     "task": false
    }
   },
   "outputs": [],
   "source": [
    "import time \n",
    "\n",
    "%matplotlib inline\n",
    "import matplotlib.pyplot as plt\n",
    "import numpy as np\n",
    "from numpy.testing import assert_equal, assert_almost_equal\n",
    "\n",
    "from sklearn.datasets import load_breast_cancer\n",
    "from sklearn.svm import LinearSVC\n",
    "from sklearn.linear_model import LogisticRegression\n",
    "\n",
    "#  Hide warnings of LinearSVC, LogisticRegression\n",
    "import warnings\n",
    "from sklearn.exceptions import ConvergenceWarning\n",
    "warnings.simplefilter(action='ignore', category=FutureWarning)\n",
    "warnings.simplefilter(action='ignore', category=ConvergenceWarning)\n",
    "\n",
    "np.random.seed(42)"
   ]
  },
  {
   "cell_type": "markdown",
   "metadata": {
    "deletable": false,
    "editable": false,
    "nbgrader": {
     "cell_type": "markdown",
     "checksum": "f8570fe15be8882c5f3733f2821bcdb8",
     "grade": false,
     "grade_id": "cell-65c9e677a5c1d059",
     "locked": true,
     "schema_version": 3,
     "solution": false,
     "task": false
    }
   },
   "source": [
    "## a) Know the Dataset\n"
   ]
  },
  {
   "cell_type": "code",
   "execution_count": 2,
   "metadata": {},
   "outputs": [
    {
     "name": "stdout",
     "output_type": "stream",
     "text": [
      "Features are ['mean radius' 'mean texture' 'mean perimeter' 'mean area'\n",
      " 'mean smoothness' 'mean compactness' 'mean concavity'\n",
      " 'mean concave points' 'mean symmetry' 'mean fractal dimension'\n",
      " 'radius error' 'texture error' 'perimeter error' 'area error'\n",
      " 'smoothness error' 'compactness error' 'concavity error'\n",
      " 'concave points error' 'symmetry error' 'fractal dimension error'\n",
      " 'worst radius' 'worst texture' 'worst perimeter' 'worst area'\n",
      " 'worst smoothness' 'worst compactness' 'worst concavity'\n",
      " 'worst concave points' 'worst symmetry' 'worst fractal dimension']\n",
      "\n",
      "labesl are ['malignant' 'benign']\n"
     ]
    }
   ],
   "source": [
    "data = load_breast_cancer()\n",
    "print(f\"Features are {data.feature_names}\")\n",
    "print(f\"\\nlabesl are {data.target_names}\")"
   ]
  },
  {
   "cell_type": "markdown",
   "metadata": {
    "deletable": false,
    "nbgrader": {
     "cell_type": "markdown",
     "checksum": "84a3de9bb3a93635204a27b8fd0bc93e",
     "grade": true,
     "grade_id": "cell-0da6208813948939",
     "locked": false,
     "points": 1,
     "schema_version": 3,
     "solution": true,
     "task": false
    }
   },
   "source": [
    "- **Features:** \n",
    "    YOUR ANSWER HERE\n",
    "- **Labels:** \n",
    "    YOUR ANSWER HERE"
   ]
  },
  {
   "cell_type": "markdown",
   "metadata": {
    "deletable": false,
    "editable": false,
    "nbgrader": {
     "cell_type": "markdown",
     "checksum": "4256a1fc42d4969c364da7449782a7c2",
     "grade": false,
     "grade_id": "cell-4a29fcf88f18d837",
     "locked": true,
     "schema_version": 3,
     "solution": false,
     "task": false
    }
   },
   "source": [
    "## b) Try a Linear SVM"
   ]
  },
  {
   "cell_type": "code",
   "execution_count": 3,
   "metadata": {
    "deletable": false,
    "editable": false,
    "nbgrader": {
     "cell_type": "code",
     "checksum": "c80dd543370d194c7eebc5311b69f8be",
     "grade": false,
     "grade_id": "cell-f454aa4ab0e7abc6",
     "locked": true,
     "schema_version": 3,
     "solution": false,
     "task": false
    }
   },
   "outputs": [],
   "source": [
    "dataset = load_breast_cancer()\n",
    "\n",
    "xs = dataset.data\n",
    "ys = dataset.target"
   ]
  },
  {
   "cell_type": "markdown",
   "metadata": {},
   "source": [
    "Split `xs, ys` to the training set `xs_train, ys_train` (size $70\\%$) and the test set `xs_test, ys_test` (size $30\\%$) "
   ]
  },
  {
   "cell_type": "code",
   "execution_count": 4,
   "metadata": {
    "deletable": false,
    "nbgrader": {
     "cell_type": "code",
     "checksum": "a2dffe12e8999a1771812c11f29ced66",
     "grade": false,
     "grade_id": "cell-a7d3b8a7e75f7895",
     "locked": false,
     "schema_version": 3,
     "solution": true,
     "task": false
    }
   },
   "outputs": [],
   "source": [
    "# YOUR CODE HERE\n",
    "n = len(xs) * 7 //10\n",
    "\n",
    "xs_train = xs[:n]\n",
    "xs_test = xs[n:]\n",
    "\n",
    "ys_train = ys[:n]\n",
    "ys_test = ys[n:]\n"
   ]
  },
  {
   "cell_type": "code",
   "execution_count": 5,
   "metadata": {
    "deletable": false,
    "editable": false,
    "nbgrader": {
     "cell_type": "code",
     "checksum": "a4b89220e6bcba67fa13857652ff42e2",
     "grade": true,
     "grade_id": "cell-a86ca458265f41aa",
     "locked": true,
     "points": 1,
     "schema_version": 3,
     "solution": false,
     "task": false
    }
   },
   "outputs": [],
   "source": [
    "assert_equal(xs_train.shape, (398, 30))\n",
    "assert_equal(ys_train.shape, (398,))\n"
   ]
  },
  {
   "cell_type": "markdown",
   "metadata": {
    "deletable": false,
    "editable": false,
    "nbgrader": {
     "cell_type": "markdown",
     "checksum": "2f02e06e449dfc7b9f4c0c33a23ad3e9",
     "grade": false,
     "grade_id": "cell-83ba239423bba8ac",
     "locked": true,
     "schema_version": 3,
     "solution": false,
     "task": false
    }
   },
   "source": [
    "Train 50 linear svc estimators with default hyperparameter, but varying the [random_state](https://scikit-learn.org/stable/modules/generated/sklearn.svm.LinearSVC.html) values. Store these inital state values and the corresponding error on the test set (mean 0-1-loss). "
   ]
  },
  {
   "cell_type": "code",
   "execution_count": 17,
   "metadata": {
    "deletable": false,
    "nbgrader": {
     "cell_type": "code",
     "checksum": "e016446582d376f9a3749a053f2d7ce2",
     "grade": false,
     "grade_id": "cell-6a321418823da7de",
     "locked": false,
     "schema_version": 3,
     "solution": true,
     "task": false
    }
   },
   "outputs": [
    {
     "data": {
      "text/plain": [
       "[<matplotlib.lines.Line2D at 0x1a70af9d788>]"
      ]
     },
     "execution_count": 17,
     "metadata": {},
     "output_type": "execute_result"
    },
    {
     "data": {
      "image/png": "[encoded data removed]",
      "text/plain": [
       "<Figure size 432x288 with 1 Axes>"
      ]
     },
     "metadata": {
      "needs_background": "light"
     },
     "output_type": "display_data"
    }
   ],
   "source": [
    "init_states = np.arange(50)\n",
    "test_errors = np.zeros(50)\n",
    "\n",
    "for i in init_states:\n",
    "    clf = LinearSVC(random_state=i)\n",
    "    clf.fit(xs_train, ys_train)\n",
    "    test_errors[i] = np.mean(clf.predict(xs_test) != ys_test)\n",
    "plt.plot(init_states, test_errors,'--o')"
   ]
  },
  {
   "cell_type": "code",
   "execution_count": 7,
   "metadata": {
    "deletable": false,
    "editable": false,
    "nbgrader": {
     "cell_type": "code",
     "checksum": "100dc161ad8b648df939fe22a1af2ed5",
     "grade": true,
     "grade_id": "cell-eedd4395ba0816f4",
     "locked": true,
     "points": 1,
     "schema_version": 3,
     "solution": false,
     "task": false
    }
   },
   "outputs": [
    {
     "data": {
      "image/png": "[encoded data removed]",
      "text/plain": [
       "<Figure size 432x288 with 1 Axes>"
      ]
     },
     "metadata": {
      "needs_background": "light"
     },
     "output_type": "display_data"
    }
   ],
   "source": [
    "assert len(init_states) == 50\n",
    "assert len(test_errors) == 50\n",
    "\n",
    "\n",
    "plt.hist(test_errors)\n",
    "plt.axvline(np.mean(test_errors), color='k', linestyle='dashed')\n",
    "plt.axvline(np.median(test_errors), color='k')\n",
    "plt.xlabel('Test Error')\n",
    "plt.ylabel('Count')\n",
    "plt.title(f\"Test Error Mean={np.mean(test_errors):.2f} Median={np.median(test_errors):.2f}\")\n",
    "plt.show()"
   ]
  },
  {
   "cell_type": "markdown",
   "metadata": {
    "deletable": false,
    "editable": false,
    "nbgrader": {
     "cell_type": "markdown",
     "checksum": "ae93ba0950d79310b4a7f4d1fd99e236",
     "grade": false,
     "grade_id": "cell-a440cbfbbb0a67b2",
     "locked": true,
     "schema_version": 3,
     "solution": false,
     "task": false
    }
   },
   "source": [
    "## c) Optimize the Hyperparameter\n",
    "\n",
    "Find good hyperparameter *without* the test set."
   ]
  },
  {
   "cell_type": "code",
   "execution_count": 10,
   "metadata": {
    "deletable": false,
    "nbgrader": {
     "cell_type": "code",
     "checksum": "c960d128842399801663a511dcff1500",
     "grade": false,
     "grade_id": "cell-0493355d0168522f",
     "locked": false,
     "schema_version": 3,
     "solution": true,
     "task": false
    }
   },
   "outputs": [
    {
     "name": "stdout",
     "output_type": "stream",
     "text": [
      "0.9532163742690059\n"
     ]
    }
   ],
   "source": [
    "# DO NOT USE xs_test, ys_test here!\n",
    "# Please make your optimization reproducable (e.g. set random_state, seed, …)\n",
    "\n",
    "best_params = {}\n",
    "\n",
    "# YOUR CODE HERE\n",
    "C = [0.0001, 0.001,0.002,0.003,0.004,0.005, 0.8, 0.09]\n",
    "state = [i*3 for i in range(len(C))]\n",
    "errors = []\n",
    "best_error = np.inf\n",
    "m = 3* n // 4\n",
    "xs_strain, ys_strain = xs_train[:m], ys_train[:m]\n",
    "xs_val, ys_val = xs_train[m:], ys_train[m:]\n",
    "start_time = time.time()\n",
    "for i in C:\n",
    "    for s in state:\n",
    "        clf = LinearSVC(C=i, random_state=s)\n",
    "        clf.fit(xs_strain, ys_strain)\n",
    "        score = np.mean(clf.predict(xs_val) != ys_val)\n",
    "        if best_error > score:\n",
    "            best_error = score\n",
    "            best_params['C'] = i\n",
    "            best_params['random_state'] = s\n",
    "end_time = time.time()\n",
    "best_estimator = LinearSVC(**best_params).fit(xs_train, ys_train)\n",
    "print(best_estimator.score(xs_test,ys_test))"
   ]
  },
  {
   "cell_type": "code",
   "execution_count": 11,
   "metadata": {
    "deletable": false,
    "editable": false,
    "nbgrader": {
     "cell_type": "code",
     "checksum": "2e341d1903be1f7143ca623fc5af0382",
     "grade": true,
     "grade_id": "cell-098cbb59db1fc109",
     "locked": true,
     "points": 1,
     "schema_version": 3,
     "solution": false,
     "task": false
    }
   },
   "outputs": [],
   "source": [
    "assert isinstance(best_estimator, LinearSVC)\n",
    "assert best_params != {}\n",
    "\n",
    "second_estimator = LinearSVC(**best_params).fit(xs_train, ys_train)\n",
    "assert_equal(best_estimator.predict(xs_test), second_estimator.predict(xs_test))"
   ]
  },
  {
   "cell_type": "code",
   "execution_count": 12,
   "metadata": {
    "deletable": false,
    "editable": false,
    "nbgrader": {
     "cell_type": "code",
     "checksum": "1e9a90f6c47785b2973ee33a1128283f",
     "grade": true,
     "grade_id": "cell-213d9fdca48368f0",
     "locked": true,
     "points": 1,
     "schema_version": 3,
     "solution": false,
     "task": false
    }
   },
   "outputs": [],
   "source": [
    "test_error = np.mean(best_estimator.predict(xs_test) != ys_test)\n",
    "assert test_error < 0.09"
   ]
  },
  {
   "cell_type": "code",
   "execution_count": 13,
   "metadata": {
    "deletable": false,
    "editable": false,
    "nbgrader": {
     "cell_type": "code",
     "checksum": "d822208c2e68c0d832c61ca28b40e50d",
     "grade": true,
     "grade_id": "cell-95ee4265a54b69e6",
     "locked": true,
     "points": 1,
     "schema_version": 3,
     "solution": false,
     "task": false
    }
   },
   "outputs": [],
   "source": [
    "assert test_error < 0.06"
   ]
  },
  {
   "cell_type": "markdown",
   "metadata": {
    "deletable": false,
    "editable": false,
    "nbgrader": {
     "cell_type": "markdown",
     "checksum": "930db13f53dc0964996598a760a28307",
     "grade": false,
     "grade_id": "cell-233b3e4dc07b6d46",
     "locked": true,
     "schema_version": 3,
     "solution": false,
     "task": false
    }
   },
   "source": [
    "## d) Linear SVM vs Logistic Regression\n",
    "\n",
    "Train a logistic regression estimator and compare it to the best svm estimator above."
   ]
  },
  {
   "cell_type": "code",
   "execution_count": 15,
   "metadata": {
    "deletable": false,
    "nbgrader": {
     "cell_type": "code",
     "checksum": "357c696a9adf6a2e4e6e61891fdc2922",
     "grade": false,
     "grade_id": "cell-e1ec684fa6fd7cbd",
     "locked": false,
     "schema_version": 3,
     "solution": true,
     "task": false
    }
   },
   "outputs": [
    {
     "name": "stdout",
     "output_type": "stream",
     "text": [
      "0.07602339181286549 0.04678362573099415\n"
     ]
    }
   ],
   "source": [
    "# if you did not solve c), use this:\n",
    "# svm_estimator = LinearSVC(C=0.002, random_state=42).fit(xs_train, ys_train)\n",
    "# else, use this:\n",
    "svm_estimator = best_estimator  \n",
    "\n",
    "# YOUR CODE HERE\n",
    "logreg = LogisticRegression()\n",
    "logreg.fit(xs_train, ys_train)\n",
    "logreg_error, svm_error  = np.mean(logreg.predict(xs_test) != ys_test), np.mean(svm_estimator.predict(xs_test) != ys_test)\n",
    "print(logreg_error, svm_error)"
   ]
  },
  {
   "cell_type": "markdown",
   "metadata": {
    "deletable": false,
    "nbgrader": {
     "cell_type": "markdown",
     "checksum": "b2a86f4a8e2cb90529215e3adbbfec31",
     "grade": true,
     "grade_id": "cell-563e6d1de9e41fbf",
     "locked": false,
     "points": 1,
     "schema_version": 3,
     "solution": true,
     "task": false
    }
   },
   "source": [
    "Compare the models. Which model would you choose and why?\n",
    "\n",
    "We will prefer the SVM becuse it performs 3% better than the Logistic Regression"
   ]
  },
  {
   "cell_type": "markdown",
   "metadata": {
    "deletable": false,
    "editable": false,
    "nbgrader": {
     "cell_type": "markdown",
     "checksum": "5911c74f02528bdd0785104cdf34950a",
     "grade": false,
     "grade_id": "cell-a7fd6a82e440e12c",
     "locked": true,
     "schema_version": 3,
     "solution": false,
     "task": false
    }
   },
   "source": [
    "## e) State concerns"
   ]
  },
  {
   "cell_type": "markdown",
   "metadata": {
    "deletable": false,
    "nbgrader": {
     "cell_type": "markdown",
     "checksum": "f6e14a0a98030e41d71db55b692f0190",
     "grade": true,
     "grade_id": "cell-5afbd54df2ee393d",
     "locked": false,
     "points": 3,
     "schema_version": 3,
     "solution": true,
     "task": false
    }
   },
   "source": [
    "1. **Ethical:** \n",
    "    YOUR ANSWER HERE\n",
    "2. **Technical/Statistical:**\n",
    "    YOUR ANSWER HERE\n",
    "3. **Any:**\n",
    "    YOUR ANSWER HERE"
   ]
  }
 ],
 "metadata": {
  "kernelspec": {
   "display_name": "Python 3",
   "language": "python",
   "name": "python3"
  },
  "language_info": {
   "codemirror_mode": {
    "name": "ipython",
    "version": 3
   },
   "file_extension": ".py",
   "mimetype": "text/x-python",
   "name": "python",
   "nbconvert_exporter": "python",
   "pygments_lexer": "ipython3",
   "version": "3.7.4"
  }
 },
 "nbformat": 4,
 "nbformat_minor": 4
}
